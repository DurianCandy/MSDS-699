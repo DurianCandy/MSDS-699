{
 "cells": [
  {
   "cell_type": "code",
   "execution_count": 1,
   "metadata": {},
   "outputs": [],
   "source": [
    "import re\n",
    "\n",
    "import numpy as np\n",
    "import pandas as pd"
   ]
  },
  {
   "cell_type": "code",
   "execution_count": 2,
   "metadata": {},
   "outputs": [],
   "source": [
    "players = pd.read_csv('../data/data.csv', encoding='utf-8')\n",
    "league_team = pd.read_csv('../data/league_team_mapping.csv', encoding='utf-8')\n",
    "league_rev = pd.read_csv('../data/league_country_level_revenue_mapping.csv', encoding='utf-8')"
   ]
  },
  {
   "cell_type": "code",
   "execution_count": 3,
   "metadata": {},
   "outputs": [],
   "source": [
    "league = pd.merge(league_team, league_rev, on='League', how='left')\n",
    "league.columns = [f'League {col}' for col in league.columns]"
   ]
  },
  {
   "cell_type": "code",
   "execution_count": 4,
   "metadata": {},
   "outputs": [],
   "source": [
    "players = pd.merge(players, league, left_on='Club', right_on='League Team', how='left')"
   ]
  },
  {
   "cell_type": "code",
   "execution_count": 5,
   "metadata": {},
   "outputs": [],
   "source": [
    "drop_cols = ['Unnamed: 0', 'ID', 'Name', 'Photo', 'Flag', 'Club Logo', 'Jersey Number', 'Joined', 'League Team', 'League League', 'Body Type']\n",
    "players = players.drop(drop_cols, axis=1, errors='ignore')"
   ]
  },
  {
   "cell_type": "code",
   "execution_count": 6,
   "metadata": {},
   "outputs": [],
   "source": [
    "def transform_money(df, colnames):\n",
    "    df_copy = df.copy()\n",
    "    for col in colnames:\n",
    "        df_copy[col] = df_copy[col].apply(parse_money)\n",
    "    return df_copy\n",
    "\n",
    "def parse_money(x):\n",
    "    if pd.isnull(x):\n",
    "        return x\n",
    "    m = re.search(r'€(\\d+\\.?\\d*)(\\w?)', x)\n",
    "    value = float(m.group(1))\n",
    "    unit = m.group(2)\n",
    "    if unit == 'K':\n",
    "        return value / 1000\n",
    "    if unit == 'M':\n",
    "        return value\n",
    "    return value / 1000000"
   ]
  },
  {
   "cell_type": "code",
   "execution_count": 7,
   "metadata": {},
   "outputs": [],
   "source": [
    "def del_no_value(df):\n",
    "    df_copy = df.copy()\n",
    "    return df.loc[df.Value > 0]"
   ]
  },
  {
   "cell_type": "code",
   "execution_count": 8,
   "metadata": {},
   "outputs": [],
   "source": [
    "def transform_height(df, colnames):\n",
    "    df_copy = df.copy()\n",
    "    for col in colnames:\n",
    "        df_copy[col] = df_copy[col].apply(parse_height)\n",
    "    return df_copy\n",
    "\n",
    "def parse_height(x):\n",
    "    if pd.isnull(x):\n",
    "        return x\n",
    "    m = re.search(r'(\\d+)\\'(\\d+)', x)\n",
    "    return int(m.group(1))*12 + int(m.group(2))"
   ]
  },
  {
   "cell_type": "code",
   "execution_count": 9,
   "metadata": {},
   "outputs": [],
   "source": [
    "def transform_weight(df, colnames):\n",
    "    df_copy = df.copy()\n",
    "    for col in colnames:\n",
    "        df_copy[col] = df_copy[col].apply(parse_weight)\n",
    "    return df_copy\n",
    "\n",
    "def parse_weight(x):\n",
    "    if pd.isnull(x):\n",
    "        return x\n",
    "    m = re.search(r'(\\d+)lbs', x)\n",
    "    return int(m.group(1))"
   ]
  },
  {
   "cell_type": "code",
   "execution_count": 10,
   "metadata": {},
   "outputs": [],
   "source": [
    "def transform_pos_ratings(df, colnames):\n",
    "    df_copy = df.copy()\n",
    "    for col in colnames:\n",
    "        df_copy[col] = df_copy[col].apply(parse_pos_ratings)\n",
    "    return df_copy\n",
    "\n",
    "def parse_pos_ratings(x):\n",
    "    if pd.isnull(x):\n",
    "        return x\n",
    "    m = re.search(r'(\\d+)\\+\\d', x)\n",
    "    return int(m.group(1))"
   ]
  },
  {
   "cell_type": "code",
   "execution_count": 11,
   "metadata": {},
   "outputs": [],
   "source": [
    "def transform_loaned(df):\n",
    "    df_copy = df.copy()\n",
    "    loaned_players_idx = ~df_copy['Loaned From'].isna()\n",
    "    df_copy.loc[loaned_players_idx, 'Club'] = df_copy.loc[loaned_players_idx, 'Loaned From']\n",
    "    df_copy.loc[loaned_players_idx, 'Contract Valid Until'] = df_copy.loc[loaned_players_idx, 'Contract Valid Until'].str.slice(-4)\n",
    "    df_copy['Loaned Out'] = False\n",
    "    df_copy.loc[loaned_players_idx, 'Loaned Out'] = True\n",
    "    df_copy = df_copy.drop('Loaned From', axis=1)\n",
    "    return df_copy"
   ]
  },
  {
   "cell_type": "code",
   "execution_count": 12,
   "metadata": {},
   "outputs": [],
   "source": [
    "def transform_work_rate(df):\n",
    "    df_copy = df.copy()\n",
    "    df_copy['Work Rate'] = df_copy['Work Rate'].str.split('/')\n",
    "    df_copy['Off Work Rate'] = df_copy['Work Rate'].str[0]\n",
    "    df_copy['Def Work Rate'] = df_copy['Work Rate'].str[1]\n",
    "    df_copy = df_copy.drop('Work Rate', axis=1)\n",
    "    return df_copy"
   ]
  },
  {
   "cell_type": "code",
   "execution_count": 13,
   "metadata": {},
   "outputs": [],
   "source": [
    "players = transform_money(players, ['Value', 'Release Clause'])\n",
    "players = del_no_value(players)\n",
    "players = transform_weight(players, ['Weight'])\n",
    "players = transform_height(players, ['Height'])\n",
    "players = transform_pos_ratings(players, 'LS,ST,RS,LW,LF,CF,RF,RW,LAM,CAM,RAM,LM,LCM,CM,RCM,RM,LWB,LDM,CDM,RDM,RWB,LB,LCB,CB,RCB,RB'.split(','))\n",
    "players = transform_loaned(players)\n",
    "players = transform_work_rate(players)"
   ]
  },
  {
   "cell_type": "code",
   "execution_count": 14,
   "metadata": {},
   "outputs": [],
   "source": [
    "players.columns = [col.replace(' ', '_') for col in players.columns]"
   ]
  },
  {
   "cell_type": "code",
   "execution_count": 15,
   "metadata": {},
   "outputs": [],
   "source": [
    "players.to_csv('../data/data_cleaned.csv', index=False)"
   ]
  }
 ],
 "metadata": {
  "kernelspec": {
   "display_name": "Python 3",
   "language": "python",
   "name": "python3"
  },
  "language_info": {
   "codemirror_mode": {
    "name": "ipython",
    "version": 3
   },
   "file_extension": ".py",
   "mimetype": "text/x-python",
   "name": "python",
   "nbconvert_exporter": "python",
   "pygments_lexer": "ipython3",
   "version": "3.7.5"
  }
 },
 "nbformat": 4,
 "nbformat_minor": 4
}
