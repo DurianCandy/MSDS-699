{
 "cells": [
  {
   "cell_type": "code",
   "execution_count": 1,
   "metadata": {},
   "outputs": [],
   "source": [
    "import pandas as pd\n",
    "import numpy as np\n",
    "from sklearn import preprocessing\n",
    "from sklearn import feature_selection\n",
    "from sklearn.model_selection import train_test_split\n",
    "from sklearn.preprocessing import LabelEncoder\n",
    "from sklearn.preprocessing import LabelBinarizer\n",
    "from sklearn import impute\n",
    "from sklearn.pipeline import Pipeline\n",
    "from sklearn import compose\n",
    "from sklearn.ensemble import RandomForestRegressor\n",
    "from sklearn.model_selection import cross_val_score\n",
    "from sklearn.metrics import make_scorer\n",
    "from sklearn.model_selection import StratifiedKFold\n",
    "from sklearn.metrics import median_absolute_error"
   ]
  },
  {
   "cell_type": "markdown",
   "metadata": {},
   "source": [
    "## Intial Data Opening, replace NAN values."
   ]
  },
  {
   "cell_type": "code",
   "execution_count": 2,
   "metadata": {},
   "outputs": [
    {
     "data": {
      "text/html": [
       "<div>\n",
       "<style scoped>\n",
       "    .dataframe tbody tr th:only-of-type {\n",
       "        vertical-align: middle;\n",
       "    }\n",
       "\n",
       "    .dataframe tbody tr th {\n",
       "        vertical-align: top;\n",
       "    }\n",
       "\n",
       "    .dataframe thead th {\n",
       "        text-align: right;\n",
       "    }\n",
       "</style>\n",
       "<table border=\"1\" class=\"dataframe\">\n",
       "  <thead>\n",
       "    <tr style=\"text-align: right;\">\n",
       "      <th></th>\n",
       "      <th>Age</th>\n",
       "      <th>Nationality</th>\n",
       "      <th>Overall</th>\n",
       "      <th>Potential</th>\n",
       "      <th>Club</th>\n",
       "      <th>Value</th>\n",
       "      <th>Wage</th>\n",
       "      <th>Special</th>\n",
       "      <th>Preferred_Foot</th>\n",
       "      <th>International_Reputation</th>\n",
       "      <th>...</th>\n",
       "      <th>GKReflexes</th>\n",
       "      <th>Release_Clause</th>\n",
       "      <th>League_Country</th>\n",
       "      <th>League_Level_Pyramid</th>\n",
       "      <th>League_Revenue</th>\n",
       "      <th>League_Revenue_Per_Team</th>\n",
       "      <th>Is_Goalkeeper</th>\n",
       "      <th>Loaned_Out</th>\n",
       "      <th>Off_Work_Rate</th>\n",
       "      <th>Def_Work_Rate</th>\n",
       "    </tr>\n",
       "  </thead>\n",
       "  <tbody>\n",
       "    <tr>\n",
       "      <td>0</td>\n",
       "      <td>31</td>\n",
       "      <td>Argentina</td>\n",
       "      <td>94</td>\n",
       "      <td>94</td>\n",
       "      <td>FC Barcelona</td>\n",
       "      <td>110.5</td>\n",
       "      <td>0.565</td>\n",
       "      <td>2202</td>\n",
       "      <td>Left</td>\n",
       "      <td>5.0</td>\n",
       "      <td>...</td>\n",
       "      <td>8.0</td>\n",
       "      <td>226.5</td>\n",
       "      <td>Spain</td>\n",
       "      <td>1.0</td>\n",
       "      <td>4479.0</td>\n",
       "      <td>223.95</td>\n",
       "      <td>0</td>\n",
       "      <td>0</td>\n",
       "      <td>Medium</td>\n",
       "      <td>Medium</td>\n",
       "    </tr>\n",
       "    <tr>\n",
       "      <td>1</td>\n",
       "      <td>33</td>\n",
       "      <td>Portugal</td>\n",
       "      <td>94</td>\n",
       "      <td>94</td>\n",
       "      <td>Juventus</td>\n",
       "      <td>77.0</td>\n",
       "      <td>0.405</td>\n",
       "      <td>2228</td>\n",
       "      <td>Right</td>\n",
       "      <td>5.0</td>\n",
       "      <td>...</td>\n",
       "      <td>11.0</td>\n",
       "      <td>127.1</td>\n",
       "      <td>Italy</td>\n",
       "      <td>1.0</td>\n",
       "      <td>2163.0</td>\n",
       "      <td>108.20</td>\n",
       "      <td>0</td>\n",
       "      <td>0</td>\n",
       "      <td>High</td>\n",
       "      <td>Low</td>\n",
       "    </tr>\n",
       "    <tr>\n",
       "      <td>2</td>\n",
       "      <td>26</td>\n",
       "      <td>Brazil</td>\n",
       "      <td>92</td>\n",
       "      <td>93</td>\n",
       "      <td>Paris Saint-Germain</td>\n",
       "      <td>118.5</td>\n",
       "      <td>0.290</td>\n",
       "      <td>2143</td>\n",
       "      <td>Right</td>\n",
       "      <td>5.0</td>\n",
       "      <td>...</td>\n",
       "      <td>11.0</td>\n",
       "      <td>228.1</td>\n",
       "      <td>France</td>\n",
       "      <td>1.0</td>\n",
       "      <td>1692.0</td>\n",
       "      <td>84.60</td>\n",
       "      <td>0</td>\n",
       "      <td>0</td>\n",
       "      <td>High</td>\n",
       "      <td>Medium</td>\n",
       "    </tr>\n",
       "    <tr>\n",
       "      <td>3</td>\n",
       "      <td>27</td>\n",
       "      <td>Spain</td>\n",
       "      <td>91</td>\n",
       "      <td>93</td>\n",
       "      <td>Manchester United</td>\n",
       "      <td>72.0</td>\n",
       "      <td>0.260</td>\n",
       "      <td>1471</td>\n",
       "      <td>Right</td>\n",
       "      <td>4.0</td>\n",
       "      <td>...</td>\n",
       "      <td>94.0</td>\n",
       "      <td>138.6</td>\n",
       "      <td>England</td>\n",
       "      <td>1.0</td>\n",
       "      <td>6562.0</td>\n",
       "      <td>328.10</td>\n",
       "      <td>1</td>\n",
       "      <td>0</td>\n",
       "      <td>Medium</td>\n",
       "      <td>Medium</td>\n",
       "    </tr>\n",
       "    <tr>\n",
       "      <td>4</td>\n",
       "      <td>27</td>\n",
       "      <td>Belgium</td>\n",
       "      <td>91</td>\n",
       "      <td>92</td>\n",
       "      <td>Manchester City</td>\n",
       "      <td>102.0</td>\n",
       "      <td>0.355</td>\n",
       "      <td>2281</td>\n",
       "      <td>Right</td>\n",
       "      <td>4.0</td>\n",
       "      <td>...</td>\n",
       "      <td>13.0</td>\n",
       "      <td>196.4</td>\n",
       "      <td>England</td>\n",
       "      <td>1.0</td>\n",
       "      <td>6562.0</td>\n",
       "      <td>328.10</td>\n",
       "      <td>0</td>\n",
       "      <td>0</td>\n",
       "      <td>High</td>\n",
       "      <td>High</td>\n",
       "    </tr>\n",
       "  </tbody>\n",
       "</table>\n",
       "<p>5 rows × 86 columns</p>\n",
       "</div>"
      ],
      "text/plain": [
       "   Age Nationality  Overall  Potential                 Club  Value   Wage  \\\n",
       "0   31   Argentina       94         94         FC Barcelona  110.5  0.565   \n",
       "1   33    Portugal       94         94             Juventus   77.0  0.405   \n",
       "2   26      Brazil       92         93  Paris Saint-Germain  118.5  0.290   \n",
       "3   27       Spain       91         93    Manchester United   72.0  0.260   \n",
       "4   27     Belgium       91         92      Manchester City  102.0  0.355   \n",
       "\n",
       "   Special Preferred_Foot  International_Reputation  ...  GKReflexes  \\\n",
       "0     2202           Left                       5.0  ...         8.0   \n",
       "1     2228          Right                       5.0  ...        11.0   \n",
       "2     2143          Right                       5.0  ...        11.0   \n",
       "3     1471          Right                       4.0  ...        94.0   \n",
       "4     2281          Right                       4.0  ...        13.0   \n",
       "\n",
       "   Release_Clause League_Country League_Level_Pyramid  League_Revenue  \\\n",
       "0           226.5          Spain                  1.0          4479.0   \n",
       "1           127.1          Italy                  1.0          2163.0   \n",
       "2           228.1         France                  1.0          1692.0   \n",
       "3           138.6        England                  1.0          6562.0   \n",
       "4           196.4        England                  1.0          6562.0   \n",
       "\n",
       "   League_Revenue_Per_Team  Is_Goalkeeper  Loaned_Out  Off_Work_Rate  \\\n",
       "0                   223.95              0           0         Medium   \n",
       "1                   108.20              0           0           High   \n",
       "2                    84.60              0           0           High   \n",
       "3                   328.10              1           0         Medium   \n",
       "4                   328.10              0           0           High   \n",
       "\n",
       "   Def_Work_Rate  \n",
       "0         Medium  \n",
       "1            Low  \n",
       "2         Medium  \n",
       "3         Medium  \n",
       "4           High  \n",
       "\n",
       "[5 rows x 86 columns]"
      ]
     },
     "execution_count": 2,
     "metadata": {},
     "output_type": "execute_result"
    }
   ],
   "source": [
    "df = pd.read_csv(\"../data/data_cleaned.csv\")\n",
    "df.head()"
   ]
  },
  {
   "cell_type": "code",
   "execution_count": 3,
   "metadata": {},
   "outputs": [],
   "source": [
    "# replace nan in categorical variables\n",
    "cat_col = ['Nationality', 'Club', 'Preferred_Foot', 'Off_Work_Rate','Def_Work_Rate', \n",
    "           'Real_Face', 'Position', 'Loaned_Out', 'League_Country']\n",
    "df[cat_col] = df[cat_col].fillna(value='nan')  # fill na for categorical features"
   ]
  },
  {
   "cell_type": "code",
   "execution_count": 4,
   "metadata": {},
   "outputs": [],
   "source": [
    "# label encoding\n",
    "from sklearn import preprocessing\n",
    "le = preprocessing.LabelEncoder()\n",
    "for c in cat_col:\n",
    "    df[c] = le.fit_transform(df[c])"
   ]
  },
  {
   "cell_type": "markdown",
   "metadata": {},
   "source": [
    "## Pipeline + Modeling Fitting"
   ]
  },
  {
   "cell_type": "code",
   "execution_count": 5,
   "metadata": {},
   "outputs": [],
   "source": [
    "# Makes Random Forest Object\n",
    "regressor = RandomForestRegressor(n_estimators=30,\n",
    "                                  min_samples_leaf=1,\n",
    "                                  random_state=42)"
   ]
  },
  {
   "cell_type": "code",
   "execution_count": 6,
   "metadata": {},
   "outputs": [],
   "source": [
    "# Gets lists of numerical columns\n",
    "numerical_col =  list(set(df.columns) - set(cat_col))\n",
    "numerical_col.remove('Value')"
   ]
  },
  {
   "cell_type": "code",
   "execution_count": 7,
   "metadata": {},
   "outputs": [],
   "source": [
    "def make_pipeline(regressor=None):\n",
    "    '''\n",
    "    Create a single pipeline that processing the data and then fits the regressor.\n",
    "    Regressor - Sklearn Model Object we are passing in\n",
    "    '''\n",
    "    \n",
    "    median_impute = impute.SimpleImputer(strategy='median')\n",
    "\n",
    "    numerical_names = numerical_col\n",
    "    \n",
    "    col_transform = compose.ColumnTransformer([('numerics',median_impute,numerical_names)])\n",
    "\n",
    "    steps_list = [('col_t',col_transform),('clf',regressor)]\n",
    "\n",
    "    pipeline = Pipeline(steps=steps_list)\n",
    "    \n",
    "    return pipeline"
   ]
  },
  {
   "cell_type": "code",
   "execution_count": 8,
   "metadata": {},
   "outputs": [],
   "source": [
    "# Makes pipeline with random forest\n",
    "pipeline = make_pipeline(regressor)"
   ]
  },
  {
   "cell_type": "markdown",
   "metadata": {},
   "source": [
    "## Model Validation"
   ]
  },
  {
   "cell_type": "code",
   "execution_count": 14,
   "metadata": {},
   "outputs": [],
   "source": [
    "# Makes x and y values\n",
    "y = df['Value']\n",
    "X = df.drop('Value',axis=1)\n",
    "X_train, X_test, y_train, y_test = train_test_split(X,y,test_size=0.33,random_state=42)"
   ]
  },
  {
   "cell_type": "code",
   "execution_count": 15,
   "metadata": {},
   "outputs": [],
   "source": [
    "scores = cross_val_score(pipeline, X_train, y_train, cv=5, scoring=make_scorer(median_absolute_error))"
   ]
  },
  {
   "cell_type": "code",
   "execution_count": 16,
   "metadata": {},
   "outputs": [
    {
     "data": {
      "text/plain": [
       "array([0.02383333, 0.02566667, 0.02533333, 0.02383333, 0.02416667])"
      ]
     },
     "execution_count": 16,
     "metadata": {},
     "output_type": "execute_result"
    }
   ],
   "source": [
    "np.mean(scores)\n",
    "scores"
   ]
  },
  {
   "cell_type": "code",
   "execution_count": 17,
   "metadata": {},
   "outputs": [
    {
     "data": {
      "text/plain": [
       "0.022416666666666446"
      ]
     },
     "execution_count": 17,
     "metadata": {},
     "output_type": "execute_result"
    }
   ],
   "source": [
    "y_pred = pipeline.fit(X_train,y_train).predict(X_test)\n",
    "median_absolute_error(y_pred,y_test)"
   ]
  }
 ],
 "metadata": {
  "kernelspec": {
   "display_name": "Python 3",
   "language": "python",
   "name": "python3"
  },
  "language_info": {
   "codemirror_mode": {
    "name": "ipython",
    "version": 3
   },
   "file_extension": ".py",
   "mimetype": "text/x-python",
   "name": "python",
   "nbconvert_exporter": "python",
   "pygments_lexer": "ipython3",
   "version": "3.7.3"
  }
 },
 "nbformat": 4,
 "nbformat_minor": 4
}
