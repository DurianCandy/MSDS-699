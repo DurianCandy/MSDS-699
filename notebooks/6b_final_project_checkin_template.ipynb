{
 "cells": [
  {
   "cell_type": "markdown",
   "metadata": {
    "toc": true
   },
   "source": [
    "<h1>Table of Contents<span class=\"tocSkip\"></span></h1>\n",
    "<div class=\"toc\"><ul class=\"toc-item\"><li><span><a href=\"#Final-Project-Check-in\" data-toc-modified-id=\"Final-Project-Check-in-1\">Final Project Check-in</a></span></li><li><span><a href=\"#Group-Name\" data-toc-modified-id=\"Group-Name-2\">Group Name</a></span></li><li><span><a href=\"#Student-Names\" data-toc-modified-id=\"Student-Names-3\">Student Names</a></span></li><li><span><a href=\"#Load-Data\" data-toc-modified-id=\"Load-Data-4\">Load Data</a></span></li><li><span><a href=\"#Fit-scikit-learn-model\" data-toc-modified-id=\"Fit-scikit-learn-model-5\">Fit scikit-learn model</a></span></li><li><span><a href=\"#Evaluation-Metric\" data-toc-modified-id=\"Evaluation-Metric-6\">Evaluation Metric</a></span></li></ul></div>"
   ]
  },
  {
   "cell_type": "markdown",
   "metadata": {},
   "source": [
    "Final Project Check-in\n",
    "------"
   ]
  },
  {
   "cell_type": "markdown",
   "metadata": {},
   "source": [
    "Group Name\n",
    "-----"
   ]
  },
  {
   "cell_type": "markdown",
   "metadata": {},
   "source": [
    "### Durian Candy "
   ]
  },
  {
   "cell_type": "markdown",
   "metadata": {},
   "source": [
    "Student Names\n",
    "----"
   ]
  },
  {
   "cell_type": "markdown",
   "metadata": {},
   "source": [
    "1. Andrew Young\n",
    "2. Charles Siu\n",
    "3. Sean Tey\n",
    "4. Sunny Kwong "
   ]
  },
  {
   "cell_type": "code",
   "execution_count": 2,
   "metadata": {},
   "outputs": [],
   "source": [
    "import pandas as pd\n",
    "import numpy as np\n",
    "from sklearn import preprocessing\n",
    "from sklearn import feature_selection\n",
    "from sklearn import linear_model\n",
    "from sklearn.model_selection import train_test_split\n",
    "from sklearn.preprocessing import LabelEncoder\n",
    "from sklearn.preprocessing import LabelBinarizer\n",
    "from sklearn import impute\n",
    "from sklearn.pipeline import Pipeline\n",
    "from sklearn import compose\n",
    "from sklearn.ensemble import RandomForestRegressor\n",
    "from sklearn.metrics import median_absolute_error\n",
    "from sklearn.model_selection import cross_val_score\n",
    "from sklearn.metrics import make_scorer\n",
    "from sklearn.model_selection import StratifiedKFold\n",
    "from rfpimp import *"
   ]
  },
  {
   "cell_type": "markdown",
   "metadata": {},
   "source": [
    "Load Data\n",
    "-----"
   ]
  },
  {
   "cell_type": "code",
   "execution_count": 3,
   "metadata": {},
   "outputs": [],
   "source": [
    "df = pd.read_csv(\"../data/data_cleaned.csv\")\n",
    "df_copy = df.copy()\n",
    "\n",
    "# Replace Categorical Missing Value and Do label encoding\n",
    "cat_col = ['Nationality', 'Club', 'Preferred_Foot', 'Off_Work_Rate', \n",
    "           'Def_Work_Rate', 'Real_Face', 'Position', 'Loaned_Out', 'League_Country', 'League_Country']\n",
    "df[cat_col] = df[cat_col].fillna(value='NA')  # fill na for categorical features\n",
    "le = preprocessing.LabelEncoder()\n",
    "for c in cat_col:\n",
    "    df[c] = le.fit_transform(df[c])"
   ]
  },
  {
   "cell_type": "code",
   "execution_count": 4,
   "metadata": {},
   "outputs": [],
   "source": [
    "y = df['Value']"
   ]
  },
  {
   "cell_type": "code",
   "execution_count": 5,
   "metadata": {},
   "outputs": [],
   "source": [
    "X = df.drop('Value',axis=1)"
   ]
  },
  {
   "cell_type": "code",
   "execution_count": 6,
   "metadata": {},
   "outputs": [],
   "source": [
    "# Uses best variables chosen from linear regression code\n",
    "lr_vars = ['Wage', 'Release_Clause', 'Overall', 'International_Reputation', 'Age', \n",
    "           'League_Revenue', 'League_Revenue_Per_Team', 'SlidingTackle', 'Potential',\n",
    "           'FKAccuracy', 'Position', 'Loaned_Out', 'Reactions', 'Marking']"
   ]
  },
  {
   "cell_type": "code",
   "execution_count": 7,
   "metadata": {},
   "outputs": [
    {
     "data": {
      "image/png": "[encoded data removed]",
      "text/plain": [
       "<Figure size 576x432 with 4 Axes>"
      ]
     },
     "metadata": {
      "needs_background": "light"
     },
     "output_type": "display_data"
    }
   ],
   "source": [
    "plt_row = 2\n",
    "plt_col = 2\n",
    "plt.figure(figsize = (plt_col * 4, plt_row * 3))\n",
    "\n",
    "for i, col in enumerate(['Value', 'Age', 'Preferred_Foot', 'RF']):\n",
    "    plt.subplot(plt_row, plt_col, i + 1)\n",
    "    plt.subplots_adjust(hspace = 0.5)\n",
    "    x = df_copy[col].dropna(axis=0)\n",
    "    plt.hist(x)\n",
    "    plt.title(col)\n",
    "    plt.xlabel(col)\n",
    "    plt.ylabel('Frequency')"
   ]
  },
  {
   "cell_type": "markdown",
   "metadata": {},
   "source": [
    "Fit scikit-learn model\n",
    "----"
   ]
  },
  {
   "cell_type": "code",
   "execution_count": 8,
   "metadata": {},
   "outputs": [],
   "source": [
    "RM = RandomForestRegressor(n_estimators=30,\n",
    "                                  min_samples_leaf=1,\n",
    "                                  random_state=42)\n",
    "lasso = linear_model.Lasso(tol=0.05)\n",
    "vanilla_lr = linear_model.LinearRegression()"
   ]
  },
  {
   "cell_type": "code",
   "execution_count": 9,
   "metadata": {},
   "outputs": [],
   "source": [
    "numerical_col =  list(set(df.columns) - set(cat_col))\n",
    "numerical_col.remove('Value')"
   ]
  },
  {
   "cell_type": "code",
   "execution_count": 10,
   "metadata": {},
   "outputs": [],
   "source": [
    "def make_pipeline(regressors=None):\n",
    "    pipelines = []\n",
    "    \n",
    "    for regressor in regressors:\n",
    "        \"Create a single pipeline that processing the data and then fits the regressor.\" \n",
    "        median_impute = impute.SimpleImputer(strategy='median')\n",
    "\n",
    "        numerical_names = numerical_col\n",
    "\n",
    "        col_transform = compose.ColumnTransformer([('numerics',median_impute,numerical_names)])\n",
    "\n",
    "        steps_list = [('col_t',col_transform),('regressor',regressor)]\n",
    "\n",
    "        pipeline = Pipeline(steps=steps_list)\n",
    "        pipelines.append(pipeline)\n",
    "    \n",
    "    return pipelines"
   ]
  },
  {
   "cell_type": "code",
   "execution_count": 11,
   "metadata": {},
   "outputs": [],
   "source": [
    "# Have to fit two pipelines since Linear Regression has variable selection as well. \n",
    "numerical_lr_col =  list(set(lr_vars) - set(cat_col))\n",
    "def make_lr_pipeline(regressors=None):\n",
    "    pipelines = []\n",
    "    \n",
    "    for regressor in regressors:\n",
    "        \"Create a single pipeline that processing the data and then fits the regressor.\" \n",
    "        median_impute = impute.SimpleImputer(strategy='median')\n",
    "\n",
    "        numerical_names = numerical_lr_col\n",
    "\n",
    "        col_transform = compose.ColumnTransformer([('numerics',median_impute,numerical_names)])\n",
    "\n",
    "        steps_list = [('col_t',col_transform),('regressor',regressor)]\n",
    "\n",
    "        pipeline = Pipeline(steps=steps_list)\n",
    "        pipelines.append(pipeline)\n",
    "    \n",
    "    return pipelines"
   ]
  },
  {
   "cell_type": "code",
   "execution_count": 12,
   "metadata": {},
   "outputs": [],
   "source": [
    "X_train, X_test, y_train, y_test = train_test_split(X, y, test_size=0.33, random_state=42)"
   ]
  },
  {
   "cell_type": "code",
   "execution_count": 13,
   "metadata": {},
   "outputs": [],
   "source": [
    "pipelines = make_pipeline([RM, lasso])\n",
    "lr_pipeline = make_lr_pipeline([vanilla_lr])"
   ]
  },
  {
   "cell_type": "code",
   "execution_count": 14,
   "metadata": {},
   "outputs": [],
   "source": [
    "for pipeline in pipelines:\n",
    "    pipeline.fit(X_train,y_train)\n",
    "for pipeline in lr_pipeline:\n",
    "    pipeline.fit(X_train[lr_vars], y_train)"
   ]
  },
  {
   "cell_type": "markdown",
   "metadata": {},
   "source": [
    "Evaluation Metric\n",
    "----"
   ]
  },
  {
   "cell_type": "code",
   "execution_count": 15,
   "metadata": {},
   "outputs": [],
   "source": [
    "def smape(y_test, y_pred):\n",
    "    return 100/len(y_test) * np.sum(2 * np.abs(y_pred - y_test) / (np.abs(y_test) + np.abs(y_pred)))"
   ]
  },
  {
   "cell_type": "code",
   "execution_count": 16,
   "metadata": {},
   "outputs": [
    {
     "name": "stdout",
     "output_type": "stream",
     "text": [
      "RandomForestRegressor(bootstrap=True, criterion='mse', max_depth=None,\n",
      "                      max_features='auto', max_leaf_nodes=None,\n",
      "                      min_impurity_decrease=0.0, min_impurity_split=None,\n",
      "                      min_samples_leaf=1, min_samples_split=2,\n",
      "                      min_weight_fraction_leaf=0.0, n_estimators=30,\n",
      "                      n_jobs=None, oob_score=False, random_state=42, verbose=0,\n",
      "                      warm_start=False)\n",
      "sMAPE:  21.71449793647214\n",
      "\n",
      "-------\n",
      "\n",
      "Lasso(alpha=1.0, copy_X=True, fit_intercept=True, max_iter=1000,\n",
      "      normalize=False, positive=False, precompute=False, random_state=None,\n",
      "      selection='cyclic', tol=0.05, warm_start=False)\n",
      "sMAPE:  91.1584438737589\n",
      "\n",
      "-------\n",
      "\n",
      "LinearRegression(copy_X=True, fit_intercept=True, n_jobs=None, normalize=False)\n",
      "sMAPE:  71.97271633928024\n",
      "\n",
      "-------\n",
      "\n"
     ]
    }
   ],
   "source": [
    "for pipeline in pipelines:\n",
    "    scores = cross_val_score(pipeline, X, y, cv=5, n_jobs=-1, scoring=make_scorer(smape))\n",
    "    print(pipeline[1])\n",
    "    print('sMAPE: ', np.mean(scores))\n",
    "    print('\\n-------\\n')\n",
    "for pipeline in lr_pipeline:\n",
    "    scores = cross_val_score(pipeline, X, y, cv=5, n_jobs=-1, scoring=make_scorer(smape))\n",
    "    print(pipeline[1])\n",
    "    print('sMAPE: ', np.mean(scores))\n",
    "    print('\\n-------\\n')"
   ]
  },
  {
   "cell_type": "markdown",
   "metadata": {},
   "source": [
    "### Outcome\n",
    "Random Forest has the lowest sMAPE value, therefore pick Random Forest as our final model"
   ]
  },
  {
   "cell_type": "markdown",
   "metadata": {},
   "source": [
    "Feature Importance\n",
    "---"
   ]
  },
  {
   "cell_type": "code",
   "execution_count": 17,
   "metadata": {},
   "outputs": [
    {
     "data": {
      "image/png": "[encoded data removed]",
      "text/plain": [
       "<Figure size 288x1347.84 with 1 Axes>"
      ]
     },
     "metadata": {
      "needs_background": "light"
     },
     "output_type": "display_data"
    }
   ],
   "source": [
    "# original feature importance\n",
    "imp = importances(pipeline, X_test, y_test) # permutation\n",
    "viz = plot_importances(imp)\n",
    "viz.view()"
   ]
  },
  {
   "cell_type": "code",
   "execution_count": 18,
   "metadata": {},
   "outputs": [
    {
     "data": {
      "text/html": [
       "<div>\n",
       "<style scoped>\n",
       "    .dataframe tbody tr th:only-of-type {\n",
       "        vertical-align: middle;\n",
       "    }\n",
       "\n",
       "    .dataframe tbody tr th {\n",
       "        vertical-align: top;\n",
       "    }\n",
       "\n",
       "    .dataframe thead th {\n",
       "        text-align: right;\n",
       "    }\n",
       "</style>\n",
       "<table border=\"1\" class=\"dataframe\">\n",
       "  <thead>\n",
       "    <tr style=\"text-align: right;\">\n",
       "      <th></th>\n",
       "      <th>Age</th>\n",
       "      <th>Nationality</th>\n",
       "      <th>Overall</th>\n",
       "      <th>Potential</th>\n",
       "      <th>Club</th>\n",
       "      <th>Wage</th>\n",
       "      <th>Special</th>\n",
       "      <th>Preferred_Foot</th>\n",
       "      <th>International_Reputation</th>\n",
       "      <th>Weak_Foot</th>\n",
       "      <th>...</th>\n",
       "      <th>GKReflexes</th>\n",
       "      <th>Release_Clause</th>\n",
       "      <th>League_Country</th>\n",
       "      <th>League_Level_Pyramid</th>\n",
       "      <th>League_Revenue</th>\n",
       "      <th>League_Revenue_Per_Team</th>\n",
       "      <th>Is_Goalkeeper</th>\n",
       "      <th>Loaned_Out</th>\n",
       "      <th>Off_Work_Rate</th>\n",
       "      <th>Def_Work_Rate</th>\n",
       "    </tr>\n",
       "  </thead>\n",
       "  <tbody>\n",
       "    <tr>\n",
       "      <td>2746</td>\n",
       "      <td>32</td>\n",
       "      <td>138</td>\n",
       "      <td>73</td>\n",
       "      <td>73</td>\n",
       "      <td>366</td>\n",
       "      <td>0.008</td>\n",
       "      <td>1875</td>\n",
       "      <td>1</td>\n",
       "      <td>1.0</td>\n",
       "      <td>4.0</td>\n",
       "      <td>...</td>\n",
       "      <td>10.0</td>\n",
       "      <td>5.000</td>\n",
       "      <td>19</td>\n",
       "      <td>1.0</td>\n",
       "      <td>509.0</td>\n",
       "      <td>28.0</td>\n",
       "      <td>0</td>\n",
       "      <td>0</td>\n",
       "      <td>2</td>\n",
       "      <td>2</td>\n",
       "    </tr>\n",
       "    <tr>\n",
       "      <td>10127</td>\n",
       "      <td>26</td>\n",
       "      <td>29</td>\n",
       "      <td>65</td>\n",
       "      <td>66</td>\n",
       "      <td>600</td>\n",
       "      <td>0.001</td>\n",
       "      <td>1792</td>\n",
       "      <td>0</td>\n",
       "      <td>1.0</td>\n",
       "      <td>3.0</td>\n",
       "      <td>...</td>\n",
       "      <td>10.0</td>\n",
       "      <td>0.891</td>\n",
       "      <td>6</td>\n",
       "      <td>1.0</td>\n",
       "      <td>113.0</td>\n",
       "      <td>6.3</td>\n",
       "      <td>0</td>\n",
       "      <td>0</td>\n",
       "      <td>0</td>\n",
       "      <td>2</td>\n",
       "    </tr>\n",
       "    <tr>\n",
       "      <td>6601</td>\n",
       "      <td>22</td>\n",
       "      <td>156</td>\n",
       "      <td>68</td>\n",
       "      <td>77</td>\n",
       "      <td>472</td>\n",
       "      <td>0.003</td>\n",
       "      <td>1675</td>\n",
       "      <td>1</td>\n",
       "      <td>1.0</td>\n",
       "      <td>4.0</td>\n",
       "      <td>...</td>\n",
       "      <td>13.0</td>\n",
       "      <td>2.400</td>\n",
       "      <td>33</td>\n",
       "      <td>1.0</td>\n",
       "      <td>851.0</td>\n",
       "      <td>38.7</td>\n",
       "      <td>0</td>\n",
       "      <td>0</td>\n",
       "      <td>0</td>\n",
       "      <td>2</td>\n",
       "    </tr>\n",
       "    <tr>\n",
       "      <td>5813</td>\n",
       "      <td>22</td>\n",
       "      <td>114</td>\n",
       "      <td>69</td>\n",
       "      <td>76</td>\n",
       "      <td>248</td>\n",
       "      <td>0.002</td>\n",
       "      <td>1115</td>\n",
       "      <td>1</td>\n",
       "      <td>1.0</td>\n",
       "      <td>3.0</td>\n",
       "      <td>...</td>\n",
       "      <td>69.0</td>\n",
       "      <td>1.600</td>\n",
       "      <td>21</td>\n",
       "      <td>1.0</td>\n",
       "      <td>152.0</td>\n",
       "      <td>9.5</td>\n",
       "      <td>1</td>\n",
       "      <td>0</td>\n",
       "      <td>2</td>\n",
       "      <td>2</td>\n",
       "    </tr>\n",
       "    <tr>\n",
       "      <td>14349</td>\n",
       "      <td>22</td>\n",
       "      <td>46</td>\n",
       "      <td>61</td>\n",
       "      <td>69</td>\n",
       "      <td>481</td>\n",
       "      <td>0.001</td>\n",
       "      <td>1632</td>\n",
       "      <td>1</td>\n",
       "      <td>1.0</td>\n",
       "      <td>4.0</td>\n",
       "      <td>...</td>\n",
       "      <td>12.0</td>\n",
       "      <td>0.634</td>\n",
       "      <td>12</td>\n",
       "      <td>3.0</td>\n",
       "      <td>171.0</td>\n",
       "      <td>7.1</td>\n",
       "      <td>0</td>\n",
       "      <td>0</td>\n",
       "      <td>2</td>\n",
       "      <td>2</td>\n",
       "    </tr>\n",
       "  </tbody>\n",
       "</table>\n",
       "<p>5 rows × 85 columns</p>\n",
       "</div>"
      ],
      "text/plain": [
       "       Age  Nationality  Overall  Potential  Club   Wage  Special  \\\n",
       "2746    32          138       73         73   366  0.008     1875   \n",
       "10127   26           29       65         66   600  0.001     1792   \n",
       "6601    22          156       68         77   472  0.003     1675   \n",
       "5813    22          114       69         76   248  0.002     1115   \n",
       "14349   22           46       61         69   481  0.001     1632   \n",
       "\n",
       "       Preferred_Foot  International_Reputation  Weak_Foot  ...  GKReflexes  \\\n",
       "2746                1                       1.0        4.0  ...        10.0   \n",
       "10127               0                       1.0        3.0  ...        10.0   \n",
       "6601                1                       1.0        4.0  ...        13.0   \n",
       "5813                1                       1.0        3.0  ...        69.0   \n",
       "14349               1                       1.0        4.0  ...        12.0   \n",
       "\n",
       "       Release_Clause  League_Country  League_Level_Pyramid  League_Revenue  \\\n",
       "2746            5.000              19                   1.0           509.0   \n",
       "10127           0.891               6                   1.0           113.0   \n",
       "6601            2.400              33                   1.0           851.0   \n",
       "5813            1.600              21                   1.0           152.0   \n",
       "14349           0.634              12                   3.0           171.0   \n",
       "\n",
       "       League_Revenue_Per_Team  Is_Goalkeeper  Loaned_Out  Off_Work_Rate  \\\n",
       "2746                      28.0              0           0              2   \n",
       "10127                      6.3              0           0              0   \n",
       "6601                      38.7              0           0              0   \n",
       "5813                       9.5              1           0              2   \n",
       "14349                      7.1              0           0              2   \n",
       "\n",
       "       Def_Work_Rate  \n",
       "2746               2  \n",
       "10127              2  \n",
       "6601               2  \n",
       "5813               2  \n",
       "14349              2  \n",
       "\n",
       "[5 rows x 85 columns]"
      ]
     },
     "execution_count": 18,
     "metadata": {},
     "output_type": "execute_result"
    }
   ],
   "source": [
    "X_train.head()"
   ]
  },
  {
   "cell_type": "code",
   "execution_count": 19,
   "metadata": {},
   "outputs": [
    {
     "ename": "NameError",
     "evalue": "name 'regressor' is not defined",
     "output_type": "error",
     "traceback": [
      "\u001b[0;31m---------------------------------------------------------------------------\u001b[0m",
      "\u001b[0;31mNameError\u001b[0m                                 Traceback (most recent call last)",
      "\u001b[0;32m<ipython-input-19-3205c1e6d55e>\u001b[0m in \u001b[0;36m<module>\u001b[0;34m\u001b[0m\n\u001b[1;32m     15\u001b[0m \u001b[0;34m\u001b[0m\u001b[0m\n\u001b[1;32m     16\u001b[0m \u001b[0mX_train\u001b[0m\u001b[0;34m,\u001b[0m \u001b[0mX_test\u001b[0m\u001b[0;34m,\u001b[0m \u001b[0my_train\u001b[0m\u001b[0;34m,\u001b[0m \u001b[0my_test\u001b[0m \u001b[0;34m=\u001b[0m \u001b[0mtrain_test_split\u001b[0m\u001b[0;34m(\u001b[0m\u001b[0mX\u001b[0m\u001b[0;34m,\u001b[0m \u001b[0my\u001b[0m\u001b[0;34m,\u001b[0m \u001b[0mtest_size\u001b[0m\u001b[0;34m=\u001b[0m\u001b[0;36m0.33\u001b[0m\u001b[0;34m)\u001b[0m\u001b[0;34m\u001b[0m\u001b[0;34m\u001b[0m\u001b[0m\n\u001b[0;32m---> 17\u001b[0;31m \u001b[0mpipeline\u001b[0m \u001b[0;34m=\u001b[0m \u001b[0mmake_pipeline\u001b[0m\u001b[0;34m(\u001b[0m\u001b[0mregressor\u001b[0m\u001b[0;34m)\u001b[0m\u001b[0;34m\u001b[0m\u001b[0;34m\u001b[0m\u001b[0m\n\u001b[0m\u001b[1;32m     18\u001b[0m \u001b[0mpipeline\u001b[0m\u001b[0;34m.\u001b[0m\u001b[0mfit\u001b[0m\u001b[0;34m(\u001b[0m\u001b[0mX_train\u001b[0m\u001b[0;34m,\u001b[0m\u001b[0my_train\u001b[0m\u001b[0;34m)\u001b[0m\u001b[0;34m\u001b[0m\u001b[0;34m\u001b[0m\u001b[0m\n\u001b[1;32m     19\u001b[0m \u001b[0mmedian_absolute_error\u001b[0m\u001b[0;34m(\u001b[0m\u001b[0my_true\u001b[0m\u001b[0;34m=\u001b[0m\u001b[0my_test\u001b[0m\u001b[0;34m,\u001b[0m\u001b[0my_pred\u001b[0m\u001b[0;34m=\u001b[0m\u001b[0my_pred\u001b[0m\u001b[0;34m)\u001b[0m\u001b[0;34m\u001b[0m\u001b[0;34m\u001b[0m\u001b[0m\n",
      "\u001b[0;31mNameError\u001b[0m: name 'regressor' is not defined"
     ]
    }
   ],
   "source": [
    "# # feature importance after dropping overall, release clause, and potential\n",
    "\n",
    "df_drop = df.drop(['Overall', 'Release_Clause', 'Potential', 'Wage'], axis=1)\n",
    "cat_col = ['Nationality', 'Club', 'Preferred_Foot', 'Off_Work_Rate', \n",
    "           'Def_Work_Rate', 'Real_Face', 'Position', 'Loaned_Out', 'League_Country', 'League_Country']\n",
    "\n",
    "numerical_col = list(set(df_drop.columns) - set(cat_col))\n",
    "numerical_col.remove('Value')\n",
    "df_drop[cat_col] = df_drop[cat_col].fillna(value='NA')  # fill na for categorical features\n",
    "le = preprocessing.LabelEncoder()\n",
    "for c in cat_col:\n",
    "    df_drop[c] = le.fit_transform(df_drop[c])\n",
    "y = df_drop['Value']\n",
    "X = df_drop.drop('Value',axis=1)\n",
    "\n",
    "X_train, X_test, y_train, y_test = train_test_split(X, y, test_size=0.33)\n",
    "pipeline = make_pipeline(regressor)\n",
    "pipeline.fit(X_train,y_train)\n",
    "median_absolute_error(y_true=y_test,y_pred=y_pred)\n",
    "\n",
    "imp = importances(pipeline, X_test, y_test) # permutation\n",
    "viz = plot_importances(imp)\n",
    "viz.view()"
   ]
  }
 ],
 "metadata": {
  "kernelspec": {
   "display_name": "Python 3",
   "language": "python",
   "name": "python3"
  },
  "language_info": {
   "codemirror_mode": {
    "name": "ipython",
    "version": 3
   },
   "file_extension": ".py",
   "mimetype": "text/x-python",
   "name": "python",
   "nbconvert_exporter": "python",
   "pygments_lexer": "ipython3",
   "version": "3.7.3"
  },
  "toc": {
   "base_numbering": 1,
   "nav_menu": {},
   "number_sections": false,
   "sideBar": false,
   "skip_h1_title": false,
   "title_cell": "Table of Contents",
   "title_sidebar": "Contents",
   "toc_cell": true,
   "toc_position": {},
   "toc_section_display": true,
   "toc_window_display": false
  }
 },
 "nbformat": 4,
 "nbformat_minor": 4
}
