{
 "cells": [
  {
   "cell_type": "markdown",
   "metadata": {
    "toc": true
   },
   "source": [
    "<h1>Table of Contents<span class=\"tocSkip\"></span></h1>\n",
    "<div class=\"toc\"><ul class=\"toc-item\"><li><span><a href=\"#Final-Project-Check-in\" data-toc-modified-id=\"Final-Project-Check-in-1\">Final Project Check-in</a></span></li><li><span><a href=\"#Group-Name\" data-toc-modified-id=\"Group-Name-2\">Group Name</a></span></li><li><span><a href=\"#Student-Names\" data-toc-modified-id=\"Student-Names-3\">Student Names</a></span></li><li><span><a href=\"#Load-Data\" data-toc-modified-id=\"Load-Data-4\">Load Data</a></span></li><li><span><a href=\"#Fit-scikit-learn-model\" data-toc-modified-id=\"Fit-scikit-learn-model-5\">Fit scikit-learn model</a></span></li><li><span><a href=\"#Evaluation-Metric\" data-toc-modified-id=\"Evaluation-Metric-6\">Evaluation Metric</a></span></li></ul></div>"
   ]
  },
  {
   "cell_type": "markdown",
   "metadata": {},
   "source": [
    "Final Project Check-in\n",
    "------"
   ]
  },
  {
   "cell_type": "markdown",
   "metadata": {},
   "source": [
    "Group Name\n",
    "-----"
   ]
  },
  {
   "cell_type": "markdown",
   "metadata": {},
   "source": [
    "### Durian Candy "
   ]
  },
  {
   "cell_type": "markdown",
   "metadata": {},
   "source": [
    "Student Names\n",
    "----"
   ]
  },
  {
   "cell_type": "markdown",
   "metadata": {},
   "source": [
    "1. Andrew Young\n",
    "2. Charles Siu\n",
    "3. Sean Tey\n",
    "4. Sunny Kwong "
   ]
  },
  {
   "cell_type": "code",
   "execution_count": 2,
   "metadata": {},
   "outputs": [],
   "source": [
    "import pandas as pd\n",
    "import numpy as np\n",
    "from sklearn import preprocessing\n",
    "from sklearn import feature_selection\n",
    "from sklearn import linear_model\n",
    "from sklearn.model_selection import train_test_split\n",
    "from sklearn.preprocessing import LabelEncoder\n",
    "from sklearn.preprocessing import LabelBinarizer\n",
    "from sklearn import impute\n",
    "from sklearn.pipeline import Pipeline\n",
    "from sklearn import compose\n",
    "from sklearn.ensemble import RandomForestRegressor\n",
    "from sklearn.metrics import median_absolute_error\n",
    "from rfpimp import *"
   ]
  },
  {
   "cell_type": "markdown",
   "metadata": {},
   "source": [
    "Load Data\n",
    "-----"
   ]
  },
  {
   "cell_type": "code",
   "execution_count": 3,
   "metadata": {},
   "outputs": [],
   "source": [
    "df = pd.read_csv(\"../data/data_cleaned.csv\")\n",
    "df_copy = df.copy()\n",
    "\n",
    "# Replace Categorical Missing Value and Do label encoding\n",
    "cat_col = ['Nationality', 'Club', 'Preferred_Foot', 'Off_Work_Rate', \n",
    "           'Def_Work_Rate', 'Real_Face', 'Position', 'Loaned_Out', 'League_Country', 'League_Country']\n",
    "df[cat_col] = df[cat_col].fillna(value='NA')  # fill na for categorical features\n",
    "le = preprocessing.LabelEncoder()\n",
    "for c in cat_col:\n",
    "    df[c] = le.fit_transform(df[c])"
   ]
  },
  {
   "cell_type": "code",
   "execution_count": 4,
   "metadata": {},
   "outputs": [],
   "source": [
    "y = df['Value']"
   ]
  },
  {
   "cell_type": "code",
   "execution_count": 5,
   "metadata": {},
   "outputs": [],
   "source": [
    "X = df.drop('Value',axis=1)"
   ]
  },
  {
   "cell_type": "code",
   "execution_count": 6,
   "metadata": {},
   "outputs": [
    {
     "data": {
      "image/png": "[encoded data removed]",
      "text/plain": [
       "<Figure size 576x432 with 4 Axes>"
      ]
     },
     "metadata": {
      "needs_background": "light"
     },
     "output_type": "display_data"
    }
   ],
   "source": [
    "plt_row = 2\n",
    "plt_col = 2\n",
    "plt.figure(figsize = (plt_col * 4, plt_row * 3))\n",
    "\n",
    "for i, col in enumerate(['Value', 'Age', 'Preferred_Foot', 'RF']):\n",
    "    plt.subplot(plt_row, plt_col, i + 1)\n",
    "    plt.subplots_adjust(hspace = 0.5)\n",
    "    x = df_copy[col].dropna(axis=0)\n",
    "    plt.hist(x)\n",
    "    plt.title(col)\n",
    "    plt.xlabel(col)\n",
    "    plt.ylabel('Frequency')"
   ]
  },
  {
   "cell_type": "code",
   "execution_count": 7,
   "metadata": {},
   "outputs": [],
   "source": [
    "X_train, X_test, y_train, y_test = train_test_split(X, y, test_size=0.33)"
   ]
  },
  {
   "cell_type": "markdown",
   "metadata": {},
   "source": [
    "Fit scikit-learn model\n",
    "----"
   ]
  },
  {
   "cell_type": "code",
   "execution_count": 8,
   "metadata": {},
   "outputs": [],
   "source": [
    "# Fits the Three models we chosen\n",
    "RM = RandomForestRegressor(n_estimators=30,\n",
    "                                  min_samples_leaf=1,\n",
    "                                  random_state=42)\n",
    "lasso = linear_model.Lasso(tol=0.05)\n",
    "vanilla_lr = linear_model.LinearRegression()"
   ]
  },
  {
   "cell_type": "code",
   "execution_count": 9,
   "metadata": {},
   "outputs": [],
   "source": [
    "# Lists variable chosen through stepwise selection\n",
    "vars_for_lr = ['Real_Face', 'Reactions', 'International_Reputation', 'Potential', 'Overall', 'Age',\n",
    "               'Contract_Valid_Until', 'League_Revenue_Per_Team', 'Stamina', 'ShotPower', 'FKAccuracy',\n",
    "               'Special', 'Finishing', 'Vision', 'League_Level_Pyramid', 'Skill_Moves', 'BallControl',\n",
    "               'Loaned_Out', 'Marking', 'Volleys', 'Balance', 'LongPassing']"
   ]
  },
  {
   "cell_type": "code",
   "execution_count": 10,
   "metadata": {},
   "outputs": [],
   "source": [
    "# Makes vector of numerical columns\n",
    "numerical_col =  list(set(df.columns) - set(cat_col))\n",
    "numerical_col.remove('Value')"
   ]
  },
  {
   "cell_type": "code",
   "execution_count": 11,
   "metadata": {},
   "outputs": [],
   "source": [
    "def make_pipeline(regressors=None):\n",
    "    ''' \n",
    "    Makes Pipeline for fitting models. \n",
    "    Uses median imputation and then use a column transformer.\n",
    "    It will not fi\n",
    "    '''\n",
    "    pipelines = []\n",
    "    \n",
    "    for regressor in regressors:\n",
    "        \"Create a single pipeline that processing the data and then fits the regressor.\" \n",
    "        median_impute = impute.SimpleImputer(strategy='median')\n",
    "\n",
    "        numerical_names = numerical_col\n",
    "\n",
    "        col_transform = compose.ColumnTransformer([('numerics',median_impute,numerical_names)])\n",
    "\n",
    "        steps_list = [('col_t',col_transform),('regressor',regressor)]\n",
    "\n",
    "        pipeline = Pipeline(steps=steps_list)\n",
    "        pipelines.append(pipeline)\n",
    "    \n",
    "    return pipelines"
   ]
  },
  {
   "cell_type": "code",
   "execution_count": 12,
   "metadata": {},
   "outputs": [],
   "source": [
    "pipelines = make_pipeline([RM, lasso])"
   ]
  },
  {
   "cell_type": "code",
   "execution_count": 13,
   "metadata": {},
   "outputs": [
    {
     "data": {
      "text/plain": [
       "LinearRegression(copy_X=True, fit_intercept=True, n_jobs=None, normalize=False)"
      ]
     },
     "execution_count": 13,
     "metadata": {},
     "output_type": "execute_result"
    }
   ],
   "source": [
    "for pipeline in pipelines:\n",
    "    pipeline.fit(X_train,y_train)\n",
    "vanilla_lr.fit(X_train[vars_for_lr], y_train)"
   ]
  },
  {
   "cell_type": "markdown",
   "metadata": {},
   "source": [
    "Evaluation Metric\n",
    "----"
   ]
  },
  {
   "cell_type": "code",
   "execution_count": 14,
   "metadata": {},
   "outputs": [],
   "source": [
    "def smape(y_test, y_pred):\n",
    "    return 100/len(y_test) * np.sum(2 * np.abs(y_pred - y_test) / (np.abs(y_test) + np.abs(y_pred)))"
   ]
  },
  {
   "cell_type": "code",
   "execution_count": 15,
   "metadata": {},
   "outputs": [
    {
     "name": "stdout",
     "output_type": "stream",
     "text": [
      "RandomForestRegressor(bootstrap=True, criterion='mse', max_depth=None,\n",
      "                      max_features='auto', max_leaf_nodes=None,\n",
      "                      min_impurity_decrease=0.0, min_impurity_split=None,\n",
      "                      min_samples_leaf=1, min_samples_split=2,\n",
      "                      min_weight_fraction_leaf=0.0, n_estimators=30,\n",
      "                      n_jobs=None, oob_score=False, random_state=42, verbose=0,\n",
      "                      warm_start=False)\n",
      "sMAPE:  4.854182919813136\n",
      "\n",
      "-------\n",
      "\n",
      "Lasso(alpha=1.0, copy_X=True, fit_intercept=True, max_iter=1000,\n",
      "      normalize=False, positive=False, precompute=False, random_state=None,\n",
      "      selection='cyclic', tol=0.05, warm_start=False)\n",
      "sMAPE:  104.00537007171178\n",
      "\n",
      "-------\n",
      "\n",
      "LinearRegression(copy_X=True, fit_intercept=True, n_jobs=None, normalize=False)\n",
      "sMAPE:  99.8165359466274\n"
     ]
    }
   ],
   "source": [
    "for pipeline in pipelines:\n",
    "    y_pred = pipeline.predict(X_test)\n",
    "    print(pipeline[1])\n",
    "    print('sMAPE: ', smape(y_test, y_pred))\n",
    "    print('\\n-------\\n')\n",
    "y_pred = vanilla_lr.predict(X_test[vars_for_lr])\n",
    "print(vanilla_lr)\n",
    "print('sMAPE: ', smape(y_test, y_pred))    "
   ]
  },
  {
   "cell_type": "markdown",
   "metadata": {},
   "source": [
    "### Outcome\n",
    "Random Forest has the lowest sMAPE value, therefore pick Random Forest as our final model"
   ]
  },
  {
   "cell_type": "markdown",
   "metadata": {},
   "source": [
    "Feature Importance\n",
    "---"
   ]
  },
  {
   "cell_type": "code",
   "execution_count": 16,
   "metadata": {},
   "outputs": [
    {
     "data": {
      "image/png": "[encoded data removed]",
      "text/plain": [
       "<Figure size 288x1316.16 with 1 Axes>"
      ]
     },
     "metadata": {
      "needs_background": "light"
     },
     "output_type": "display_data"
    }
   ],
   "source": [
    "# original feature importance\n",
    "imp = importances(pipeline, X_test, y_test) # permutation\n",
    "viz = plot_importances(imp)\n",
    "viz.view()"
   ]
  },
  {
   "cell_type": "code",
   "execution_count": 17,
   "metadata": {},
   "outputs": [
    {
     "data": {
      "text/html": [
       "<div>\n",
       "<style scoped>\n",
       "    .dataframe tbody tr th:only-of-type {\n",
       "        vertical-align: middle;\n",
       "    }\n",
       "\n",
       "    .dataframe tbody tr th {\n",
       "        vertical-align: top;\n",
       "    }\n",
       "\n",
       "    .dataframe thead th {\n",
       "        text-align: right;\n",
       "    }\n",
       "</style>\n",
       "<table border=\"1\" class=\"dataframe\">\n",
       "  <thead>\n",
       "    <tr style=\"text-align: right;\">\n",
       "      <th></th>\n",
       "      <th>Age</th>\n",
       "      <th>Nationality</th>\n",
       "      <th>Overall</th>\n",
       "      <th>Potential</th>\n",
       "      <th>Club</th>\n",
       "      <th>Special</th>\n",
       "      <th>Preferred_Foot</th>\n",
       "      <th>International_Reputation</th>\n",
       "      <th>Weak_Foot</th>\n",
       "      <th>Skill_Moves</th>\n",
       "      <th>...</th>\n",
       "      <th>GKPositioning</th>\n",
       "      <th>GKReflexes</th>\n",
       "      <th>League_Country</th>\n",
       "      <th>League_Level_Pyramid</th>\n",
       "      <th>League_Revenue</th>\n",
       "      <th>League_Revenue_Per_Team</th>\n",
       "      <th>Is_Goalkeeper</th>\n",
       "      <th>Loaned_Out</th>\n",
       "      <th>Off_Work_Rate</th>\n",
       "      <th>Def_Work_Rate</th>\n",
       "    </tr>\n",
       "  </thead>\n",
       "  <tbody>\n",
       "    <tr>\n",
       "      <td>2700</td>\n",
       "      <td>26</td>\n",
       "      <td>114</td>\n",
       "      <td>73</td>\n",
       "      <td>74</td>\n",
       "      <td>20</td>\n",
       "      <td>1765</td>\n",
       "      <td>1</td>\n",
       "      <td>1.0</td>\n",
       "      <td>2.0</td>\n",
       "      <td>2.0</td>\n",
       "      <td>...</td>\n",
       "      <td>7.0</td>\n",
       "      <td>14.0</td>\n",
       "      <td>20</td>\n",
       "      <td>1.0</td>\n",
       "      <td>505.0</td>\n",
       "      <td>28.1</td>\n",
       "      <td>0</td>\n",
       "      <td>0</td>\n",
       "      <td>2</td>\n",
       "      <td>2</td>\n",
       "    </tr>\n",
       "    <tr>\n",
       "      <td>12285</td>\n",
       "      <td>22</td>\n",
       "      <td>109</td>\n",
       "      <td>63</td>\n",
       "      <td>71</td>\n",
       "      <td>403</td>\n",
       "      <td>1732</td>\n",
       "      <td>1</td>\n",
       "      <td>1.0</td>\n",
       "      <td>3.0</td>\n",
       "      <td>2.0</td>\n",
       "      <td>...</td>\n",
       "      <td>12.0</td>\n",
       "      <td>14.0</td>\n",
       "      <td>2</td>\n",
       "      <td>1.0</td>\n",
       "      <td>63.0</td>\n",
       "      <td>6.3</td>\n",
       "      <td>0</td>\n",
       "      <td>0</td>\n",
       "      <td>2</td>\n",
       "      <td>2</td>\n",
       "    </tr>\n",
       "    <tr>\n",
       "      <td>11467</td>\n",
       "      <td>21</td>\n",
       "      <td>55</td>\n",
       "      <td>64</td>\n",
       "      <td>70</td>\n",
       "      <td>48</td>\n",
       "      <td>1050</td>\n",
       "      <td>1</td>\n",
       "      <td>1.0</td>\n",
       "      <td>2.0</td>\n",
       "      <td>1.0</td>\n",
       "      <td>...</td>\n",
       "      <td>60.0</td>\n",
       "      <td>72.0</td>\n",
       "      <td>14</td>\n",
       "      <td>1.0</td>\n",
       "      <td>1692.0</td>\n",
       "      <td>84.6</td>\n",
       "      <td>1</td>\n",
       "      <td>0</td>\n",
       "      <td>2</td>\n",
       "      <td>2</td>\n",
       "    </tr>\n",
       "    <tr>\n",
       "      <td>6484</td>\n",
       "      <td>27</td>\n",
       "      <td>77</td>\n",
       "      <td>69</td>\n",
       "      <td>69</td>\n",
       "      <td>139</td>\n",
       "      <td>1875</td>\n",
       "      <td>1</td>\n",
       "      <td>1.0</td>\n",
       "      <td>4.0</td>\n",
       "      <td>3.0</td>\n",
       "      <td>...</td>\n",
       "      <td>14.0</td>\n",
       "      <td>7.0</td>\n",
       "      <td>17</td>\n",
       "      <td>2.0</td>\n",
       "      <td>276.0</td>\n",
       "      <td>12.5</td>\n",
       "      <td>0</td>\n",
       "      <td>0</td>\n",
       "      <td>2</td>\n",
       "      <td>2</td>\n",
       "    </tr>\n",
       "    <tr>\n",
       "      <td>9965</td>\n",
       "      <td>22</td>\n",
       "      <td>59</td>\n",
       "      <td>65</td>\n",
       "      <td>72</td>\n",
       "      <td>4</td>\n",
       "      <td>1680</td>\n",
       "      <td>1</td>\n",
       "      <td>1.0</td>\n",
       "      <td>4.0</td>\n",
       "      <td>3.0</td>\n",
       "      <td>...</td>\n",
       "      <td>9.0</td>\n",
       "      <td>13.0</td>\n",
       "      <td>15</td>\n",
       "      <td>2.0</td>\n",
       "      <td>608.0</td>\n",
       "      <td>33.8</td>\n",
       "      <td>0</td>\n",
       "      <td>0</td>\n",
       "      <td>2</td>\n",
       "      <td>0</td>\n",
       "    </tr>\n",
       "  </tbody>\n",
       "</table>\n",
       "<p>5 rows × 83 columns</p>\n",
       "</div>"
      ],
      "text/plain": [
       "       Age  Nationality  Overall  Potential  Club  Special  Preferred_Foot  \\\n",
       "2700    26          114       73         74    20     1765               1   \n",
       "12285   22          109       63         71   403     1732               1   \n",
       "11467   21           55       64         70    48     1050               1   \n",
       "6484    27           77       69         69   139     1875               1   \n",
       "9965    22           59       65         72     4     1680               1   \n",
       "\n",
       "       International_Reputation  Weak_Foot  Skill_Moves  ...  GKPositioning  \\\n",
       "2700                        1.0        2.0          2.0  ...            7.0   \n",
       "12285                       1.0        3.0          2.0  ...           12.0   \n",
       "11467                       1.0        2.0          1.0  ...           60.0   \n",
       "6484                        1.0        4.0          3.0  ...           14.0   \n",
       "9965                        1.0        4.0          3.0  ...            9.0   \n",
       "\n",
       "       GKReflexes  League_Country  League_Level_Pyramid  League_Revenue  \\\n",
       "2700         14.0              20                   1.0           505.0   \n",
       "12285        14.0               2                   1.0            63.0   \n",
       "11467        72.0              14                   1.0          1692.0   \n",
       "6484          7.0              17                   2.0           276.0   \n",
       "9965         13.0              15                   2.0           608.0   \n",
       "\n",
       "       League_Revenue_Per_Team  Is_Goalkeeper  Loaned_Out  Off_Work_Rate  \\\n",
       "2700                      28.1              0           0              2   \n",
       "12285                      6.3              0           0              2   \n",
       "11467                     84.6              1           0              2   \n",
       "6484                      12.5              0           0              2   \n",
       "9965                      33.8              0           0              2   \n",
       "\n",
       "       Def_Work_Rate  \n",
       "2700               2  \n",
       "12285              2  \n",
       "11467              2  \n",
       "6484               2  \n",
       "9965               0  \n",
       "\n",
       "[5 rows x 83 columns]"
      ]
     },
     "execution_count": 17,
     "metadata": {},
     "output_type": "execute_result"
    }
   ],
   "source": [
    "X_train.head()"
   ]
  },
  {
   "cell_type": "code",
   "execution_count": 18,
   "metadata": {},
   "outputs": [
    {
     "ename": "NameError",
     "evalue": "name 'regressor' is not defined",
     "output_type": "error",
     "traceback": [
      "\u001b[0;31m---------------------------------------------------------------------------\u001b[0m",
      "\u001b[0;31mNameError\u001b[0m                                 Traceback (most recent call last)",
      "\u001b[0;32m<ipython-input-18-65a350d0a155>\u001b[0m in \u001b[0;36m<module>\u001b[0;34m\u001b[0m\n\u001b[1;32m     14\u001b[0m \u001b[0;34m\u001b[0m\u001b[0m\n\u001b[1;32m     15\u001b[0m \u001b[0mX_train\u001b[0m\u001b[0;34m,\u001b[0m \u001b[0mX_test\u001b[0m\u001b[0;34m,\u001b[0m \u001b[0my_train\u001b[0m\u001b[0;34m,\u001b[0m \u001b[0my_test\u001b[0m \u001b[0;34m=\u001b[0m \u001b[0mtrain_test_split\u001b[0m\u001b[0;34m(\u001b[0m\u001b[0mX\u001b[0m\u001b[0;34m,\u001b[0m \u001b[0my\u001b[0m\u001b[0;34m,\u001b[0m \u001b[0mtest_size\u001b[0m\u001b[0;34m=\u001b[0m\u001b[0;36m0.33\u001b[0m\u001b[0;34m)\u001b[0m\u001b[0;34m\u001b[0m\u001b[0;34m\u001b[0m\u001b[0m\n\u001b[0;32m---> 16\u001b[0;31m \u001b[0mpipeline\u001b[0m \u001b[0;34m=\u001b[0m \u001b[0mmake_pipeline\u001b[0m\u001b[0;34m(\u001b[0m\u001b[0mregressor\u001b[0m\u001b[0;34m)\u001b[0m\u001b[0;34m\u001b[0m\u001b[0;34m\u001b[0m\u001b[0m\n\u001b[0m\u001b[1;32m     17\u001b[0m \u001b[0mpipeline\u001b[0m\u001b[0;34m.\u001b[0m\u001b[0mfit\u001b[0m\u001b[0;34m(\u001b[0m\u001b[0mX_train\u001b[0m\u001b[0;34m,\u001b[0m\u001b[0my_train\u001b[0m\u001b[0;34m)\u001b[0m\u001b[0;34m\u001b[0m\u001b[0;34m\u001b[0m\u001b[0m\n\u001b[1;32m     18\u001b[0m \u001b[0mmedian_absolute_error\u001b[0m\u001b[0;34m(\u001b[0m\u001b[0my_true\u001b[0m\u001b[0;34m=\u001b[0m\u001b[0my_test\u001b[0m\u001b[0;34m,\u001b[0m\u001b[0my_pred\u001b[0m\u001b[0;34m=\u001b[0m\u001b[0my_pred\u001b[0m\u001b[0;34m)\u001b[0m\u001b[0;34m\u001b[0m\u001b[0;34m\u001b[0m\u001b[0m\n",
      "\u001b[0;31mNameError\u001b[0m: name 'regressor' is not defined"
     ]
    }
   ],
   "source": [
    "# # feature importance after dropping overall, release clause, and potential\n",
    "df_drop = df.drop(['Overall', 'Potential'], axis=1)\n",
    "cat_col = ['Nationality', 'Club', 'Preferred_Foot', 'Off_Work_Rate', \n",
    "           'Def_Work_Rate', 'Real_Face', 'Position', 'Loaned_Out', 'League_Country', 'League_Country']\n",
    "\n",
    "numerical_col = list(set(df_drop.columns) - set(cat_col))\n",
    "numerical_col.remove('Value')\n",
    "df_drop[cat_col] = df_drop[cat_col].fillna(value='NA')  # fill na for categorical features\n",
    "le = preprocessing.LabelEncoder()\n",
    "for c in cat_col:\n",
    "    df_drop[c] = le.fit_transform(df_drop[c])\n",
    "y = df_drop['Value']\n",
    "X = df_drop.drop('Value',axis=1)\n",
    "\n",
    "X_train, X_test, y_train, y_test = train_test_split(X, y, test_size=0.33)\n",
    "pipeline = make_pipeline(regressor)\n",
    "pipeline.fit(X_train,y_train)\n",
    "median_absolute_error(y_true=y_test,y_pred=y_pred)\n",
    "\n",
    "imp = importances(pipeline, X_test, y_test) # permutation\n",
    "viz = plot_importances(imp)\n",
    "viz.view()"
   ]
  }
 ],
 "metadata": {
  "kernelspec": {
   "display_name": "Python 3",
   "language": "python",
   "name": "python3"
  },
  "language_info": {
   "codemirror_mode": {
    "name": "ipython",
    "version": 3
   },
   "file_extension": ".py",
   "mimetype": "text/x-python",
   "name": "python",
   "nbconvert_exporter": "python",
   "pygments_lexer": "ipython3",
   "version": "3.7.3"
  },
  "toc": {
   "base_numbering": 1,
   "nav_menu": {},
   "number_sections": false,
   "sideBar": false,
   "skip_h1_title": false,
   "title_cell": "Table of Contents",
   "title_sidebar": "Contents",
   "toc_cell": true,
   "toc_position": {},
   "toc_section_display": true,
   "toc_window_display": false
  }
 },
 "nbformat": 4,
 "nbformat_minor": 4
}
