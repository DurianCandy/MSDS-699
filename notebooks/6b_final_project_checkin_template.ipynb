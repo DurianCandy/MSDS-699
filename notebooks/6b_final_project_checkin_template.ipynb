{
 "cells": [
  {
   "cell_type": "markdown",
   "metadata": {
    "toc": true
   },
   "source": [
    "<h1>Table of Contents<span class=\"tocSkip\"></span></h1>\n",
    "<div class=\"toc\"><ul class=\"toc-item\"><li><span><a href=\"#Final-Project-Check-in\" data-toc-modified-id=\"Final-Project-Check-in-1\">Final Project Check-in</a></span></li><li><span><a href=\"#Group-Name\" data-toc-modified-id=\"Group-Name-2\">Group Name</a></span></li><li><span><a href=\"#Student-Names\" data-toc-modified-id=\"Student-Names-3\">Student Names</a></span></li><li><span><a href=\"#Load-Data\" data-toc-modified-id=\"Load-Data-4\">Load Data</a></span></li><li><span><a href=\"#Fit-scikit-learn-model\" data-toc-modified-id=\"Fit-scikit-learn-model-5\">Fit scikit-learn model</a></span></li><li><span><a href=\"#Evaluation-Metric\" data-toc-modified-id=\"Evaluation-Metric-6\">Evaluation Metric</a></span></li></ul></div>"
   ]
  },
  {
   "cell_type": "markdown",
   "metadata": {},
   "source": [
    "Final Project Check-in\n",
    "------"
   ]
  },
  {
   "cell_type": "markdown",
   "metadata": {},
   "source": [
    "Group Name\n",
    "-----"
   ]
  },
  {
   "cell_type": "markdown",
   "metadata": {},
   "source": [
    "### Durian Candy "
   ]
  },
  {
   "cell_type": "markdown",
   "metadata": {},
   "source": [
    "Student Names\n",
    "----"
   ]
  },
  {
   "cell_type": "markdown",
   "metadata": {},
   "source": [
    "1. Andrew Young\n",
    "2. Charles Siu\n",
    "3. Sean Tey\n",
    "4. Sunny Kwong "
   ]
  },
  {
   "cell_type": "code",
   "execution_count": 1,
   "metadata": {},
   "outputs": [],
   "source": [
    "import pandas as pd\n",
    "import numpy as np\n",
    "from sklearn import preprocessing\n",
    "from sklearn import feature_selection\n",
    "from sklearn.model_selection import train_test_split\n",
    "from sklearn.preprocessing import LabelEncoder\n",
    "from sklearn.preprocessing import LabelBinarizer\n",
    "from sklearn import impute\n",
    "from sklearn.pipeline import Pipeline\n",
    "from sklearn import compose\n",
    "from sklearn.ensemble import RandomForestRegressor\n",
    "from sklearn.metrics import median_absolute_error\n",
    "from rfpimp import *"
   ]
  },
  {
   "cell_type": "markdown",
   "metadata": {},
   "source": [
    "Load Data\n",
    "-----"
   ]
  },
  {
   "cell_type": "code",
   "execution_count": 2,
   "metadata": {},
   "outputs": [],
   "source": [
    "df = pd.read_csv(\"../data/data_cleaned.csv\")\n",
    "\n",
    "# Replace Categorical Missing Value and Do label encoding\n",
    "cat_col = ['Nationality', 'Club', 'Preferred_Foot', 'Off_Work_Rate', \n",
    "           'Def_Work_Rate', 'Real_Face', 'Position', 'Loaned_Out', 'League_Country', 'League_Country']\n",
    "df[cat_col] = df[cat_col].fillna(value='NA')  # fill na for categorical features\n",
    "le = preprocessing.LabelEncoder()\n",
    "for c in cat_col:\n",
    "    df[c] = le.fit_transform(df[c])"
   ]
  },
  {
   "cell_type": "code",
   "execution_count": 3,
   "metadata": {},
   "outputs": [],
   "source": [
    "y = df['Value']"
   ]
  },
  {
   "cell_type": "code",
   "execution_count": 4,
   "metadata": {},
   "outputs": [],
   "source": [
    "X = df.drop('Value',axis=1)"
   ]
  },
  {
   "cell_type": "code",
   "execution_count": 5,
   "metadata": {},
   "outputs": [],
   "source": [
    "X_train, X_test, y_train, y_test = train_test_split(X, y, test_size=0.33)"
   ]
  },
  {
   "cell_type": "markdown",
   "metadata": {},
   "source": [
    "Fit scikit-learn model\n",
    "----"
   ]
  },
  {
   "cell_type": "code",
   "execution_count": 6,
   "metadata": {},
   "outputs": [],
   "source": [
    "regressor = RandomForestRegressor(n_estimators=30,\n",
    "                                  min_samples_leaf=1,\n",
    "                                  random_state=42)"
   ]
  },
  {
   "cell_type": "code",
   "execution_count": 7,
   "metadata": {},
   "outputs": [],
   "source": [
    "numerical_col =  list(set(df.columns) - set(cat_col))\n",
    "numerical_col.remove('Value')"
   ]
  },
  {
   "cell_type": "code",
   "execution_count": 8,
   "metadata": {},
   "outputs": [],
   "source": [
    "def make_pipeline(regressor=None):\n",
    "    \"Create a single pipeline that processing the data and then fits the regressor.\" \n",
    "    \n",
    "    median_impute = impute.SimpleImputer(strategy='median')\n",
    "\n",
    "    numerical_names = numerical_col\n",
    "    \n",
    "    col_transform = compose.ColumnTransformer([('numerics',median_impute,numerical_names)])\n",
    "\n",
    "    steps_list = [('col_t',col_transform),('clf',regressor)]\n",
    "\n",
    "    pipeline = Pipeline(steps=steps_list)\n",
    "    \n",
    "    return pipeline"
   ]
  },
  {
   "cell_type": "code",
   "execution_count": 9,
   "metadata": {},
   "outputs": [],
   "source": [
    "pipeline = make_pipeline(regressor)"
   ]
  },
  {
   "cell_type": "code",
   "execution_count": 10,
   "metadata": {},
   "outputs": [
    {
     "data": {
      "text/plain": [
       "Pipeline(memory=None,\n",
       "         steps=[('col_t',\n",
       "                 ColumnTransformer(n_jobs=None, remainder='drop',\n",
       "                                   sparse_threshold=0.3,\n",
       "                                   transformer_weights=None,\n",
       "                                   transformers=[('numerics',\n",
       "                                                  SimpleImputer(add_indicator=False,\n",
       "                                                                copy=True,\n",
       "                                                                fill_value=None,\n",
       "                                                                missing_values=nan,\n",
       "                                                                strategy='median',\n",
       "                                                                verbose=0),\n",
       "                                                  ['LCB', 'LS', 'GKKicking',\n",
       "                                                   'Weight', 'HeadingAccuracy',\n",
       "                                                   'Release_Clause', 'ST',\n",
       "                                                   'LAM', 'Accele...\n",
       "                                   verbose=False)),\n",
       "                ('clf',\n",
       "                 RandomForestRegressor(bootstrap=True, criterion='mse',\n",
       "                                       max_depth=None, max_features='auto',\n",
       "                                       max_leaf_nodes=None,\n",
       "                                       min_impurity_decrease=0.0,\n",
       "                                       min_impurity_split=None,\n",
       "                                       min_samples_leaf=1, min_samples_split=2,\n",
       "                                       min_weight_fraction_leaf=0.0,\n",
       "                                       n_estimators=30, n_jobs=None,\n",
       "                                       oob_score=False, random_state=42,\n",
       "                                       verbose=0, warm_start=False))],\n",
       "         verbose=False)"
      ]
     },
     "execution_count": 10,
     "metadata": {},
     "output_type": "execute_result"
    }
   ],
   "source": [
    "pipeline.fit(X_train,y_train)"
   ]
  },
  {
   "cell_type": "markdown",
   "metadata": {},
   "source": [
    "Evaluation Metric\n",
    "----"
   ]
  },
  {
   "cell_type": "code",
   "execution_count": 11,
   "metadata": {},
   "outputs": [],
   "source": [
    "y_pred = pipeline.predict(X_test)"
   ]
  },
  {
   "cell_type": "code",
   "execution_count": 12,
   "metadata": {},
   "outputs": [
    {
     "data": {
      "text/plain": [
       "0.006333333333333309"
      ]
     },
     "execution_count": 12,
     "metadata": {},
     "output_type": "execute_result"
    }
   ],
   "source": [
    "median_absolute_error(y_true=y_test,y_pred=y_pred)"
   ]
  },
  {
   "cell_type": "code",
   "execution_count": null,
   "metadata": {},
   "outputs": [],
   "source": []
  },
  {
   "cell_type": "markdown",
   "metadata": {},
   "source": [
    "Feature Importance\n",
    "---"
   ]
  },
  {
   "cell_type": "code",
   "execution_count": 13,
   "metadata": {},
   "outputs": [
    {
     "data": {
      "image/png": "[encoded data removed]",
      "text/plain": [
       "<Figure size 288x1332 with 1 Axes>"
      ]
     },
     "metadata": {
      "needs_background": "light"
     },
     "output_type": "display_data"
    }
   ],
   "source": [
    "# original feature importance\n",
    "imp = importances(pipeline, X_test, y_test) # permutation\n",
    "viz = plot_importances(imp)\n",
    "viz.view()"
   ]
  },
  {
   "cell_type": "code",
   "execution_count": 14,
   "metadata": {},
   "outputs": [
    {
     "data": {
      "text/html": [
       "<div>\n",
       "<style scoped>\n",
       "    .dataframe tbody tr th:only-of-type {\n",
       "        vertical-align: middle;\n",
       "    }\n",
       "\n",
       "    .dataframe tbody tr th {\n",
       "        vertical-align: top;\n",
       "    }\n",
       "\n",
       "    .dataframe thead th {\n",
       "        text-align: right;\n",
       "    }\n",
       "</style>\n",
       "<table border=\"1\" class=\"dataframe\">\n",
       "  <thead>\n",
       "    <tr style=\"text-align: right;\">\n",
       "      <th></th>\n",
       "      <th>Age</th>\n",
       "      <th>Nationality</th>\n",
       "      <th>Overall</th>\n",
       "      <th>Potential</th>\n",
       "      <th>Club</th>\n",
       "      <th>Wage</th>\n",
       "      <th>Special</th>\n",
       "      <th>Preferred_Foot</th>\n",
       "      <th>International_Reputation</th>\n",
       "      <th>Weak_Foot</th>\n",
       "      <th>...</th>\n",
       "      <th>GKPositioning</th>\n",
       "      <th>GKReflexes</th>\n",
       "      <th>Release_Clause</th>\n",
       "      <th>League_Country</th>\n",
       "      <th>League_Level_Pyramid</th>\n",
       "      <th>League_Revenue</th>\n",
       "      <th>League_Revenue_Per_Team</th>\n",
       "      <th>Loaned_Out</th>\n",
       "      <th>Off_Work_Rate</th>\n",
       "      <th>Def_Work_Rate</th>\n",
       "    </tr>\n",
       "  </thead>\n",
       "  <tbody>\n",
       "    <tr>\n",
       "      <td>15161</td>\n",
       "      <td>19</td>\n",
       "      <td>59</td>\n",
       "      <td>59</td>\n",
       "      <td>72</td>\n",
       "      <td>301</td>\n",
       "      <td>0.001</td>\n",
       "      <td>1094</td>\n",
       "      <td>2</td>\n",
       "      <td>1.0</td>\n",
       "      <td>4.0</td>\n",
       "      <td>...</td>\n",
       "      <td>56.0</td>\n",
       "      <td>63.0</td>\n",
       "      <td>0.500000</td>\n",
       "      <td>15</td>\n",
       "      <td>2.0</td>\n",
       "      <td>608000000.0</td>\n",
       "      <td>33.8</td>\n",
       "      <td>0</td>\n",
       "      <td>2</td>\n",
       "      <td>2</td>\n",
       "    </tr>\n",
       "    <tr>\n",
       "      <td>3539</td>\n",
       "      <td>27</td>\n",
       "      <td>127</td>\n",
       "      <td>72</td>\n",
       "      <td>72</td>\n",
       "      <td>67</td>\n",
       "      <td>0.011</td>\n",
       "      <td>1795</td>\n",
       "      <td>2</td>\n",
       "      <td>1.0</td>\n",
       "      <td>3.0</td>\n",
       "      <td>...</td>\n",
       "      <td>8.0</td>\n",
       "      <td>15.0</td>\n",
       "      <td>0.000006</td>\n",
       "      <td>31</td>\n",
       "      <td>1.0</td>\n",
       "      <td>731000000.0</td>\n",
       "      <td>40.6</td>\n",
       "      <td>0</td>\n",
       "      <td>2</td>\n",
       "      <td>1</td>\n",
       "    </tr>\n",
       "    <tr>\n",
       "      <td>8640</td>\n",
       "      <td>23</td>\n",
       "      <td>107</td>\n",
       "      <td>66</td>\n",
       "      <td>70</td>\n",
       "      <td>11</td>\n",
       "      <td>0.002</td>\n",
       "      <td>1806</td>\n",
       "      <td>0</td>\n",
       "      <td>1.0</td>\n",
       "      <td>3.0</td>\n",
       "      <td>...</td>\n",
       "      <td>7.0</td>\n",
       "      <td>14.0</td>\n",
       "      <td>0.000001</td>\n",
       "      <td>20</td>\n",
       "      <td>1.0</td>\n",
       "      <td>505000000.0</td>\n",
       "      <td>28.1</td>\n",
       "      <td>0</td>\n",
       "      <td>2</td>\n",
       "      <td>2</td>\n",
       "    </tr>\n",
       "    <tr>\n",
       "      <td>9989</td>\n",
       "      <td>29</td>\n",
       "      <td>9</td>\n",
       "      <td>65</td>\n",
       "      <td>65</td>\n",
       "      <td>494</td>\n",
       "      <td>0.004</td>\n",
       "      <td>1759</td>\n",
       "      <td>0</td>\n",
       "      <td>1.0</td>\n",
       "      <td>3.0</td>\n",
       "      <td>...</td>\n",
       "      <td>10.0</td>\n",
       "      <td>14.0</td>\n",
       "      <td>0.580000</td>\n",
       "      <td>3</td>\n",
       "      <td>1.0</td>\n",
       "      <td>179000000.0</td>\n",
       "      <td>17.9</td>\n",
       "      <td>0</td>\n",
       "      <td>2</td>\n",
       "      <td>2</td>\n",
       "    </tr>\n",
       "    <tr>\n",
       "      <td>8676</td>\n",
       "      <td>22</td>\n",
       "      <td>156</td>\n",
       "      <td>66</td>\n",
       "      <td>70</td>\n",
       "      <td>516</td>\n",
       "      <td>0.002</td>\n",
       "      <td>1766</td>\n",
       "      <td>2</td>\n",
       "      <td>1.0</td>\n",
       "      <td>2.0</td>\n",
       "      <td>...</td>\n",
       "      <td>7.0</td>\n",
       "      <td>13.0</td>\n",
       "      <td>0.000001</td>\n",
       "      <td>33</td>\n",
       "      <td>1.0</td>\n",
       "      <td>851000000.0</td>\n",
       "      <td>38.7</td>\n",
       "      <td>0</td>\n",
       "      <td>2</td>\n",
       "      <td>2</td>\n",
       "    </tr>\n",
       "  </tbody>\n",
       "</table>\n",
       "<p>5 rows × 84 columns</p>\n",
       "</div>"
      ],
      "text/plain": [
       "       Age  Nationality  Overall  Potential  Club   Wage  Special  \\\n",
       "15161   19           59       59         72   301  0.001     1094   \n",
       "3539    27          127       72         72    67  0.011     1795   \n",
       "8640    23          107       66         70    11  0.002     1806   \n",
       "9989    29            9       65         65   494  0.004     1759   \n",
       "8676    22          156       66         70   516  0.002     1766   \n",
       "\n",
       "       Preferred_Foot  International_Reputation  Weak_Foot  ...  \\\n",
       "15161               2                       1.0        4.0  ...   \n",
       "3539                2                       1.0        3.0  ...   \n",
       "8640                0                       1.0        3.0  ...   \n",
       "9989                0                       1.0        3.0  ...   \n",
       "8676                2                       1.0        2.0  ...   \n",
       "\n",
       "       GKPositioning  GKReflexes  Release_Clause  League_Country  \\\n",
       "15161           56.0        63.0        0.500000              15   \n",
       "3539             8.0        15.0        0.000006              31   \n",
       "8640             7.0        14.0        0.000001              20   \n",
       "9989            10.0        14.0        0.580000               3   \n",
       "8676             7.0        13.0        0.000001              33   \n",
       "\n",
       "       League_Level_Pyramid  League_Revenue  League_Revenue_Per_Team  \\\n",
       "15161                   2.0     608000000.0                     33.8   \n",
       "3539                    1.0     731000000.0                     40.6   \n",
       "8640                    1.0     505000000.0                     28.1   \n",
       "9989                    1.0     179000000.0                     17.9   \n",
       "8676                    1.0     851000000.0                     38.7   \n",
       "\n",
       "       Loaned_Out  Off_Work_Rate  Def_Work_Rate  \n",
       "15161           0              2              2  \n",
       "3539            0              2              1  \n",
       "8640            0              2              2  \n",
       "9989            0              2              2  \n",
       "8676            0              2              2  \n",
       "\n",
       "[5 rows x 84 columns]"
      ]
     },
     "execution_count": 14,
     "metadata": {},
     "output_type": "execute_result"
    }
   ],
   "source": [
    "X_train.head()"
   ]
  },
  {
   "cell_type": "code",
   "execution_count": 15,
   "metadata": {},
   "outputs": [
    {
     "data": {
      "image/png": "[encoded data removed]",
      "text/plain": [
       "<Figure size 288x1284.48 with 1 Axes>"
      ]
     },
     "metadata": {
      "needs_background": "light"
     },
     "output_type": "display_data"
    }
   ],
   "source": [
    "# # feature importance after dropping overall, release clause, and potential\n",
    "\n",
    "df_drop = df.drop(['Overall', 'Release_Clause', 'Potential'],axis=1)\n",
    "cat_col = ['Nationality', 'Club', 'Preferred_Foot', 'Off_Work_Rate', \n",
    "           'Def_Work_Rate', 'Real_Face', 'Position', 'Loaned_Out', 'League_Country', 'League_Country']\n",
    "\n",
    "numerical_col =  list(set(df_drop.columns) - set(cat_col))\n",
    "numerical_col.remove('Value')\n",
    "df_drop[cat_col] = df_drop[cat_col].fillna(value='NA')  # fill na for categorical features\n",
    "le = preprocessing.LabelEncoder()\n",
    "for c in cat_col:\n",
    "    df_drop[c] = le.fit_transform(df_drop[c])\n",
    "y = df_drop['Value']\n",
    "X = df_drop.drop('Value',axis=1)\n",
    "\n",
    "X_train, X_test, y_train, y_test = train_test_split(X, y, test_size=0.33)\n",
    "pipeline = make_pipeline(regressor)\n",
    "pipeline.fit(X_train,y_train)\n",
    "\n",
    "imp = importances(pipeline, X_test, y_test) # permutation\n",
    "viz = plot_importances(imp)\n",
    "viz.view()"
   ]
  },
  {
   "cell_type": "code",
   "execution_count": null,
   "metadata": {},
   "outputs": [],
   "source": []
  },
  {
   "cell_type": "code",
   "execution_count": null,
   "metadata": {},
   "outputs": [],
   "source": []
  },
  {
   "cell_type": "code",
   "execution_count": 16,
   "metadata": {},
   "outputs": [
    {
     "data": {
      "text/html": [
       "<div>\n",
       "<style scoped>\n",
       "    .dataframe tbody tr th:only-of-type {\n",
       "        vertical-align: middle;\n",
       "    }\n",
       "\n",
       "    .dataframe tbody tr th {\n",
       "        vertical-align: top;\n",
       "    }\n",
       "\n",
       "    .dataframe thead th {\n",
       "        text-align: right;\n",
       "    }\n",
       "</style>\n",
       "<table border=\"1\" class=\"dataframe\">\n",
       "  <thead>\n",
       "    <tr style=\"text-align: right;\">\n",
       "      <th></th>\n",
       "      <th>Age</th>\n",
       "      <th>Nationality</th>\n",
       "      <th>Club</th>\n",
       "      <th>Wage</th>\n",
       "      <th>Special</th>\n",
       "      <th>Preferred_Foot</th>\n",
       "      <th>International_Reputation</th>\n",
       "      <th>Weak_Foot</th>\n",
       "      <th>Skill_Moves</th>\n",
       "      <th>Real_Face</th>\n",
       "      <th>...</th>\n",
       "      <th>GKKicking</th>\n",
       "      <th>GKPositioning</th>\n",
       "      <th>GKReflexes</th>\n",
       "      <th>League_Country</th>\n",
       "      <th>League_Level_Pyramid</th>\n",
       "      <th>League_Revenue</th>\n",
       "      <th>League_Revenue_Per_Team</th>\n",
       "      <th>Loaned_Out</th>\n",
       "      <th>Off_Work_Rate</th>\n",
       "      <th>Def_Work_Rate</th>\n",
       "    </tr>\n",
       "  </thead>\n",
       "  <tbody>\n",
       "    <tr>\n",
       "      <td>29</td>\n",
       "      <td>27</td>\n",
       "      <td>77</td>\n",
       "      <td>398</td>\n",
       "      <td>0.165</td>\n",
       "      <td>2017</td>\n",
       "      <td>2</td>\n",
       "      <td>3.0</td>\n",
       "      <td>3.0</td>\n",
       "      <td>4.0</td>\n",
       "      <td>2</td>\n",
       "      <td>...</td>\n",
       "      <td>14.0</td>\n",
       "      <td>9.0</td>\n",
       "      <td>10.0</td>\n",
       "      <td>17</td>\n",
       "      <td>1.0</td>\n",
       "      <td>2.163000e+09</td>\n",
       "      <td>108.2</td>\n",
       "      <td>0</td>\n",
       "      <td>0</td>\n",
       "      <td>2</td>\n",
       "    </tr>\n",
       "    <tr>\n",
       "      <td>5231</td>\n",
       "      <td>27</td>\n",
       "      <td>59</td>\n",
       "      <td>497</td>\n",
       "      <td>0.010</td>\n",
       "      <td>1930</td>\n",
       "      <td>0</td>\n",
       "      <td>1.0</td>\n",
       "      <td>3.0</td>\n",
       "      <td>3.0</td>\n",
       "      <td>1</td>\n",
       "      <td>...</td>\n",
       "      <td>13.0</td>\n",
       "      <td>13.0</td>\n",
       "      <td>13.0</td>\n",
       "      <td>15</td>\n",
       "      <td>2.0</td>\n",
       "      <td>6.080000e+08</td>\n",
       "      <td>33.8</td>\n",
       "      <td>0</td>\n",
       "      <td>0</td>\n",
       "      <td>2</td>\n",
       "    </tr>\n",
       "    <tr>\n",
       "      <td>6984</td>\n",
       "      <td>23</td>\n",
       "      <td>61</td>\n",
       "      <td>417</td>\n",
       "      <td>0.001</td>\n",
       "      <td>1618</td>\n",
       "      <td>2</td>\n",
       "      <td>1.0</td>\n",
       "      <td>3.0</td>\n",
       "      <td>2.0</td>\n",
       "      <td>1</td>\n",
       "      <td>...</td>\n",
       "      <td>14.0</td>\n",
       "      <td>11.0</td>\n",
       "      <td>6.0</td>\n",
       "      <td>16</td>\n",
       "      <td>1.0</td>\n",
       "      <td>1.180000e+08</td>\n",
       "      <td>7.4</td>\n",
       "      <td>0</td>\n",
       "      <td>0</td>\n",
       "      <td>2</td>\n",
       "    </tr>\n",
       "    <tr>\n",
       "      <td>15111</td>\n",
       "      <td>19</td>\n",
       "      <td>35</td>\n",
       "      <td>211</td>\n",
       "      <td>0.001</td>\n",
       "      <td>1264</td>\n",
       "      <td>2</td>\n",
       "      <td>1.0</td>\n",
       "      <td>3.0</td>\n",
       "      <td>2.0</td>\n",
       "      <td>1</td>\n",
       "      <td>...</td>\n",
       "      <td>12.0</td>\n",
       "      <td>9.0</td>\n",
       "      <td>7.0</td>\n",
       "      <td>15</td>\n",
       "      <td>1.0</td>\n",
       "      <td>3.810000e+09</td>\n",
       "      <td>211.7</td>\n",
       "      <td>0</td>\n",
       "      <td>2</td>\n",
       "      <td>2</td>\n",
       "    </tr>\n",
       "    <tr>\n",
       "      <td>7517</td>\n",
       "      <td>25</td>\n",
       "      <td>157</td>\n",
       "      <td>600</td>\n",
       "      <td>0.002</td>\n",
       "      <td>1538</td>\n",
       "      <td>0</td>\n",
       "      <td>1.0</td>\n",
       "      <td>3.0</td>\n",
       "      <td>2.0</td>\n",
       "      <td>1</td>\n",
       "      <td>...</td>\n",
       "      <td>7.0</td>\n",
       "      <td>8.0</td>\n",
       "      <td>11.0</td>\n",
       "      <td>6</td>\n",
       "      <td>1.0</td>\n",
       "      <td>1.130000e+08</td>\n",
       "      <td>6.3</td>\n",
       "      <td>0</td>\n",
       "      <td>2</td>\n",
       "      <td>2</td>\n",
       "    </tr>\n",
       "  </tbody>\n",
       "</table>\n",
       "<p>5 rows × 81 columns</p>\n",
       "</div>"
      ],
      "text/plain": [
       "       Age  Nationality  Club   Wage  Special  Preferred_Foot  \\\n",
       "29      27           77   398  0.165     2017               2   \n",
       "5231    27           59   497  0.010     1930               0   \n",
       "6984    23           61   417  0.001     1618               2   \n",
       "15111   19           35   211  0.001     1264               2   \n",
       "7517    25          157   600  0.002     1538               0   \n",
       "\n",
       "       International_Reputation  Weak_Foot  Skill_Moves  Real_Face  ...  \\\n",
       "29                          3.0        3.0          4.0          2  ...   \n",
       "5231                        1.0        3.0          3.0          1  ...   \n",
       "6984                        1.0        3.0          2.0          1  ...   \n",
       "15111                       1.0        3.0          2.0          1  ...   \n",
       "7517                        1.0        3.0          2.0          1  ...   \n",
       "\n",
       "       GKKicking  GKPositioning  GKReflexes  League_Country  \\\n",
       "29          14.0            9.0        10.0              17   \n",
       "5231        13.0           13.0        13.0              15   \n",
       "6984        14.0           11.0         6.0              16   \n",
       "15111       12.0            9.0         7.0              15   \n",
       "7517         7.0            8.0        11.0               6   \n",
       "\n",
       "       League_Level_Pyramid  League_Revenue  League_Revenue_Per_Team  \\\n",
       "29                      1.0    2.163000e+09                    108.2   \n",
       "5231                    2.0    6.080000e+08                     33.8   \n",
       "6984                    1.0    1.180000e+08                      7.4   \n",
       "15111                   1.0    3.810000e+09                    211.7   \n",
       "7517                    1.0    1.130000e+08                      6.3   \n",
       "\n",
       "       Loaned_Out  Off_Work_Rate  Def_Work_Rate  \n",
       "29              0              0              2  \n",
       "5231            0              0              2  \n",
       "6984            0              0              2  \n",
       "15111           0              2              2  \n",
       "7517            0              2              2  \n",
       "\n",
       "[5 rows x 81 columns]"
      ]
     },
     "execution_count": 16,
     "metadata": {},
     "output_type": "execute_result"
    }
   ],
   "source": [
    "X_test.head()"
   ]
  },
  {
   "cell_type": "code",
   "execution_count": null,
   "metadata": {},
   "outputs": [],
   "source": []
  }
 ],
 "metadata": {
  "kernelspec": {
   "display_name": "Python 3",
   "language": "python",
   "name": "python3"
  },
  "language_info": {
   "codemirror_mode": {
    "name": "ipython",
    "version": 3
   },
   "file_extension": ".py",
   "mimetype": "text/x-python",
   "name": "python",
   "nbconvert_exporter": "python",
   "pygments_lexer": "ipython3",
   "version": "3.7.4"
  },
  "toc": {
   "base_numbering": 1,
   "nav_menu": {},
   "number_sections": false,
   "sideBar": false,
   "skip_h1_title": false,
   "title_cell": "Table of Contents",
   "title_sidebar": "Contents",
   "toc_cell": true,
   "toc_position": {},
   "toc_section_display": true,
   "toc_window_display": false
  }
 },
 "nbformat": 4,
 "nbformat_minor": 4
}
