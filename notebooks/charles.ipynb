{
 "cells": [
  {
   "cell_type": "code",
   "execution_count": 1,
   "metadata": {},
   "outputs": [],
   "source": [
    "import numpy as np\n",
    "import pandas as pd\n",
    "\n",
    "from sklearn import compose, impute, linear_model, preprocessing\n",
    "from sklearn.model_selection import cross_val_score, train_test_split\n",
    "from sklearn.pipeline import Pipeline\n",
    "from sklearn.metrics import median_absolute_error, make_scorer"
   ]
  },
  {
   "cell_type": "code",
   "execution_count": 2,
   "metadata": {},
   "outputs": [],
   "source": [
    "players = pd.read_csv('../data/data_cleaned.csv', encoding='utf-8')\n",
    "y = players['Value']\n",
    "X = players.drop('Value', axis=1)"
   ]
  },
  {
   "cell_type": "code",
   "execution_count": 3,
   "metadata": {},
   "outputs": [],
   "source": [
    "# Makes Pipeline for fitting L1 Regression\n",
    "def make_pipeline(regressor=None):\n",
    "    \"Create a single pipeline that processes the data and then fits the regressor.\" \n",
    "    numeric_features = list(X.select_dtypes(include='float64').columns)\n",
    "    numeric_transformer = Pipeline(steps=[\n",
    "        ('imputer', impute.SimpleImputer(strategy='median')),\n",
    "        ('scaler', preprocessing.StandardScaler())])\n",
    "    \n",
    "    categorical_features = list(X.select_dtypes(include='object').columns)\n",
    "    categorical_transformer = Pipeline(steps=[\n",
    "        ('imputer', impute.SimpleImputer(strategy='most_frequent')),\n",
    "        ('onehot', preprocessing.OneHotEncoder(handle_unknown='ignore'))])\n",
    "    \n",
    "    preprocessor = compose.ColumnTransformer(\n",
    "    transformers=[\n",
    "        ('num', numeric_transformer, numeric_features),\n",
    "        ('cat', categorical_transformer, categorical_features)],\n",
    "    remainder='passthrough')\n",
    "    \n",
    "    pipeline = Pipeline([('preprocessor', preprocessor), ('regressor', regressor)])\n",
    "    return pipeline"
   ]
  },
  {
   "cell_type": "code",
   "execution_count": 4,
   "metadata": {},
   "outputs": [],
   "source": [
    "regressor = linear_model.Lasso(tol=0.05)\n",
    "pipeline = make_pipeline(regressor)"
   ]
  },
  {
   "cell_type": "code",
   "execution_count": 5,
   "metadata": {},
   "outputs": [],
   "source": [
    "X_train, X_test, y_train, y_test = train_test_split(X, y, test_size=0.33, random_state=42)"
   ]
  },
  {
   "cell_type": "code",
   "execution_count": 6,
   "metadata": {},
   "outputs": [],
   "source": [
    "pipeline.fit(X_train, y_train);"
   ]
  },
  {
   "cell_type": "code",
   "execution_count": 7,
   "metadata": {},
   "outputs": [
    {
     "name": "stdout",
     "output_type": "stream",
     "text": [
      "0.6251 medae on train dataset\n"
     ]
    }
   ],
   "source": [
    "# Calculates MEDAE for training data set\n",
    "y_pred = pipeline.predict(X_train)\n",
    "medae_value_train = median_absolute_error(y_train, y_pred)\n",
    "print(f\"{medae_value_train:.4f} medae on train dataset\")"
   ]
  },
  {
   "cell_type": "code",
   "execution_count": 8,
   "metadata": {},
   "outputs": [
    {
     "name": "stdout",
     "output_type": "stream",
     "text": [
      "0.6271 medae on cross-fold train dataset\n"
     ]
    }
   ],
   "source": [
    "# Calculates MEDAE for K Fold validation\n",
    "median_absolute_error_scorer = make_scorer(median_absolute_error)\n",
    "medae_value_cv = np.mean(cross_val_score(pipeline, X_train, y_train, scoring=median_absolute_error_scorer, cv=5))\n",
    "print(f\"{medae_value_cv:.4f} medae on cross-fold train dataset\")"
   ]
  },
  {
   "cell_type": "code",
   "execution_count": 9,
   "metadata": {},
   "outputs": [
    {
     "name": "stdout",
     "output_type": "stream",
     "text": [
      "0.6152 medae on test dataset\n"
     ]
    }
   ],
   "source": [
    "# Calculates MEDAE for test data set\n",
    "y_test_pred = pipeline.predict(X_test)\n",
    "medae_value_test = median_absolute_error(y_test, y_test_pred)\n",
    "print(f\"{medae_value_test:.4f} medae on test dataset\")"
   ]
  }
 ],
 "metadata": {
  "kernelspec": {
   "display_name": "Python 3",
   "language": "python",
   "name": "python3"
  },
  "language_info": {
   "codemirror_mode": {
    "name": "ipython",
    "version": 3
   },
   "file_extension": ".py",
   "mimetype": "text/x-python",
   "name": "python",
   "nbconvert_exporter": "python",
   "pygments_lexer": "ipython3",

   "version": "3.7.3"

  }
 },
 "nbformat": 4,
 "nbformat_minor": 4
}
